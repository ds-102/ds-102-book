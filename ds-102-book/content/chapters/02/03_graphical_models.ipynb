{
 "cells": [
  {
   "cell_type": "code",
   "execution_count": 1,
   "metadata": {
    "scrolled": false
   },
   "outputs": [],
   "source": [
    "import numpy as np\n",
    "import pandas as pd\n",
    "from scipy import stats\n",
    "\n",
    "%matplotlib inline\n",
    "\n",
    "import matplotlib.pyplot as plt\n",
    "import seaborn as sns\n",
    "sns.set()"
   ]
  },
  {
   "cell_type": "markdown",
   "metadata": {},
   "source": [
    "# Graphical Models, Probability Distributions, and Independence"
   ]
  },
  {
   "cell_type": "markdown",
   "metadata": {},
   "source": [
    "## Graphical Models\n",
    "\n",
    "*Coming soon*"
   ]
  },
  {
   "cell_type": "markdown",
   "metadata": {},
   "source": [
    "## Relating graphical models to probability distributions\n",
    "\n",
    "*Coming soon*"
   ]
  },
  {
   "cell_type": "markdown",
   "metadata": {},
   "source": [
    "## Independence and Conditional Independence"
   ]
  },
  {
   "cell_type": "markdown",
   "metadata": {},
   "source": [
    "### Review: independence and conditional independence\n",
    "\n",
    "We say that two random variables $w$ and $v$ are independent if knowing the value of one tells us nothing about the distribution of the other. Notationally, we write $w \\perp\\!\\!\\!\\perp v$. The following statements are all true for independent random variables $w$ and $v$:\n",
    "\n",
    "* If $w$ and $v$ are independent ($w \\perp\\!\\!\\!\\perp v$), then the joint distribution $p(w, v)$ can be written as the product of the marginal distributions: $p(w, v) = p(w)p(v)$.\n",
    "* If $w$ and $v$ are independent ($w \\perp\\!\\!\\!\\perp v$), then the conditional distributions are equal to the marginal distributions: $p(w|v) = p(w)$ and $p(v|w) = p(v)$. *Exercise: using the definition of conditional distributions, show that this condition and the previous condition are mathematically equivalent.*\n",
    "\n",
    "We say that two random variables $w$ and $v$ are conditionally independent given a third random variable $u$ if, when we condition on $u$, knowing the value of one of $v$ or $w$ tells us nothing about the distribution of the other. Notationally, we write $w \\perp\\!\\!\\!\\perp v \\mid u$.\n",
    "\n",
    "For example, suppose $x_1$ and $x_2$ are the heights of two people randomly sampled from a very specific population with some average height $\\mu$. If we know the value of $\\mu$, then $x_1$ and $x_2$ are conditionally independent, because they're random samples. Suppose instead that we don't know the value of $\\mu$, but we find out that $x_1 = 7' 1''$. In this case, we might guess that the 'specific population' is likely a very tall group, such as NBA players. This will affect our belief about the distribution of $x_2$ (i.e., we should expect the second person to be tall too). So, in this case:\n",
    "\n",
    "* $x_1$ and $x_2$ are conditionally independent given $\\mu$: $x_1 \\perp\\!\\!\\!\\perp x_2 \\mid \\mu$.\n",
    "* $x_1$ and $x_2$ are not unconditionally independent: it is not true that $x_1 \\perp\\!\\!\\!\\perp x_2$."
   ]
  },
  {
   "cell_type": "markdown",
   "metadata": {},
   "source": [
    "### Independence and conditional independence in graphical models\n",
    "\n",
    "*In progress*"
   ]
  }
 ],
 "metadata": {
  "celltoolbar": "Edit Metadata",
  "kernelspec": {
   "display_name": "Python 3 (ipykernel)",
   "language": "python",
   "name": "python3"
  },
  "language_info": {
   "codemirror_mode": {
    "name": "ipython",
    "version": 3
   },
   "file_extension": ".py",
   "mimetype": "text/x-python",
   "name": "python",
   "nbconvert_exporter": "python",
   "pygments_lexer": "ipython3",
   "version": "3.11.5"
  }
 },
 "nbformat": 4,
 "nbformat_minor": 2
}
