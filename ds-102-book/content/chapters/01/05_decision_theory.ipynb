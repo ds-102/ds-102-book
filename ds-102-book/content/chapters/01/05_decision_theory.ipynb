{
 "cells": [
  {
   "cell_type": "markdown",
   "id": "24b4e387",
   "metadata": {},
   "source": [
    "# Statistical Decision Theory"
   ]
  },
  {
   "cell_type": "markdown",
   "id": "22007ae2",
   "metadata": {},
   "source": [
    "Up until now, we've used error rates to help us understand tradeoffs in binary decision-making. In this section, we'll introduce a more general theoretical framework to understand and quantify errors we make, and start to explore the theoretical branch of statistics known as **statistical decision theory**.\n",
    "\n",
    "Remember our setup: we have some **unknown quantity** $\\theta$ that we're interested in. We collect data $x$. Our data are random, and come from the distribution $p(x|\\theta)$. We use the data to reason about $\\theta$. Often, we'll want to use the data to compute an estimate for $\\theta$ but sometimes, we may want to do something slightly different. In order to describe \"the thing we do to the data\", we'll use the notation $\\delta(x)$. This represents the result of applying some procedure $\\delta$ to the data. For example, $\\delta$ might be the sample average of many data points, or the result of logistic regression. The obvious next question is: how do we choose which procedure $\\delta$ to use? We'll decide by quantifying how \"good\" each $\\delta$ is, and then trying to choose the \"best\" one.\n",
    "\n",
    "\"Good\" is a very abstract notion: to quantify it, we'll need a quantitative measure of how good (or to be more precise, how bad) our procedure $\\delta$ is. We'll call this a **loss function**. Notationally, we'll write $\\ell(\\theta, \\delta(x))$ to represent the loss associated with the outcome $\\delta(x)$ if the true value is $\\theta$. To summarize:\n",
    "\n",
    "$$\n",
    "\\begin{align*}\n",
    "    \\text{Variable/notation} & \\quad \\text{What it means} \\\\\n",
    "    \\hline\n",
    "    \\theta      & \\quad \\text{unknown quantity/quantities of interest: parameter(s)} \\\\\n",
    "    x           & \\quad \\text{observed data} \\\\\n",
    "    p(x|\\theta) & \\quad \\text{probability distribution for data $x$ (depends on $\\theta$)} \\\\\n",
    "    \\delta(x)   & \\quad \\text{decision or result computed from $x$, often an estimate of $\\theta$} \\\\\n",
    "    \\ell(\\delta(x), \\theta) & \\quad \\text{loss (badness) for output $\\delta(x)$ and true parameter(s) $\\theta$}\n",
    "\\end{align*}\n",
    "$$"
   ]
  },
  {
   "cell_type": "markdown",
   "id": "0de533ea",
   "metadata": {},
   "source": [
    "### Examples"
   ]
  },
  {
   "cell_type": "markdown",
   "id": "932a33da",
   "metadata": {},
   "source": [
    "That's a very abstract definition: let's make it more concrete with a few examples."
   ]
  },
  {
   "cell_type": "markdown",
   "id": "d0d8e020",
   "metadata": {},
   "source": [
    "#### Binary decision: 0-1 loss\n",
    "\n",
    "For our first example, we'll return to our binary decision-making setting. In that case:\n",
    "* Our unknown parameter $\\theta$ is binary, and corresponds to reality, which we've been calling $R$.\n",
    "* Our data $x$ were whatever we used to compute the p-value.\n",
    "* The decision $\\delta$ is a binary decision, which we've been calling $D$.\n",
    "\n",
    "| | D&nbsp;=&nbsp;$\\delta(x)$&nbsp;=&nbsp;0 | D&nbsp;=&nbsp;$\\delta(x)$&nbsp;=&nbsp;1 |\n",
    "| ---: | :---: | :---: |\n",
    "| $R=\\theta=0$ | TN loss | FP loss | \n",
    "| $R=\\theta=1$ | FN loss | TP loss |\n",
    "\n",
    "Here are a few concrete examples, and what each of these quantities would represent:\n",
    "\n",
    "| Example | Unknown $\\theta$ / $R$ | Data $x$ | Decision $\\delta$ / $D$ |\n",
    "| --- | --- | --- | --- |\n",
    "| Disease testing | Whether a person has a disease | Collected clinical data (blood sample, vital signs, etc.) | Should we give the person treatments for that disease? |\n",
    "| Finding oil wells | Whether underground oil exists in a certain area | Readings from seismic sensors, etc. | Should we drill for oil in this location? |\n",
    "| Product recommendation | Will a user buy this product? | User behavior, interest in similar products, etc. | Should we recommend the product to the user? \n",
    "\n",
    "\n",
    "Note that we haven't really talked much about $p(x|\\theta)$, since we've been working with $\\delta(x)$ directly: we'll discuss this more in the next chapter.\n",
    "\n",
    "Our loss function will depend on the problem we're solving. Since in this case, both the inputs ($\\theta$/$R$ and $\\delta$/$D$) are binary, we can write the loss in a 2x2 table that looks exactly like the ones we've seen before.\n",
    "If both kinds of error (false positive and false negative) are equally bad, we can use the simplest loss function, the **0-1 loss**:\n",
    "\n",
    "$$\n",
    "\\ell(\\delta(x), \\theta) = \\begin{cases}\n",
    "    0 & \\text{if }\\theta = \\delta(x) \\\\\n",
    "    1 & \\text{if }\\theta \\neq \\delta(x)\n",
    "\\end{cases}\n",
    "$$\n",
    "\n",
    "**Exercise**: Suppose we have a situation where a false positive is five times worse than a false negative. How would you write the loss function?"
   ]
  },
  {
   "cell_type": "markdown",
   "id": "35cdc4e1",
   "metadata": {},
   "source": [
    "#### Continuous decision: $\\ell_2$ loss\n",
    "\n",
    "Now, suppose our parameter$\\theta$ is continuous, and $\\delta(x)$ is our estimate of the parameter from the data. To make things a little more concrete, $\\theta$ could be the average height of people in a population, and $x$ could be the heights of people in a random sample from that population. In this case, our loss shouldn't just be right vs wrong: we should use a loss function that's smaller when our estimate is close, and larger when our estimate is far away. \n",
    "\n",
    "You've probably already seen one before: the squared error loss, also known as the **$\\ell_2$ loss**:\n",
    "\n",
    "$$\n",
    "\\ell(\\delta(x), \\theta) = \\big(\\delta(x) - \\theta\\big)^2\n",
    "$$\n",
    "\n",
    "We'll analyze the $\\ell_2$ loss a little more later.\n",
    "\n",
    "**Exercise**: Suppose we have a situation where it's much worse to make a guess that's too high, compared to a guess that's too low. How would you construct a loss function for this problem?"
   ]
  },
  {
   "cell_type": "markdown",
   "id": "dec2db0b",
   "metadata": {},
   "source": [
    "### Known and unknown"
   ]
  },
  {
   "cell_type": "markdown",
   "id": "61ee72fe",
   "metadata": {},
   "source": [
    "At this point, you may be wondering: if $\\theta$ is unknown, how can we ever compute the loss function? It's important to keep in mind that when we apply $\\delta(x)$ on real data, we don't know $\\theta$. But right now, we're building up some machinery to help us analyze different procedures. In other words, we're trying to get to a place where we can answer questions like \"what procedures are most likely to give us estimates that are close to $\\theta$?\""
   ]
  },
  {
   "cell_type": "markdown",
   "id": "b92a9abd",
   "metadata": {},
   "source": [
    "### Fixed and random: finding the average loss in Bayesian and frequentist approaches"
   ]
  },
  {
   "cell_type": "markdown",
   "id": "882506a5",
   "metadata": {},
   "source": [
    "The loss function is a function of $\\delta(x)$, which is the procedure result for particular data $x$, and the particular parameter $\\theta$. This isn't particularly useful to us: we'd like to understand how the loss does \"on average\". But in order to compute any kind of averages, we need to decide what's random and what's fixed. This is an important fork in the road: we can either take the Bayesian or the frequentist route. Let's examine what happens if we try each one:"
   ]
  },
  {
   "cell_type": "markdown",
   "id": "6b07474d",
   "metadata": {},
   "source": [
    "#### Frequentist loss analysis"
   ]
  },
  {
   "cell_type": "markdown",
   "id": "35db21e0",
   "metadata": {},
   "source": [
    "In the frequentist world, we assume that our unknown $\\theta$ is **fixed**. The data are the only random piece. So, we're going to look at the average across different possibilities for the data $x$. Since the data comes from the distribution $p(x|\\theta)$, which depends on $\\theta$, we should expect that this \"averaging\" will produce something that depends on $\\theta$. We'll call our average the **frequentist risk**:\n",
    "\n",
    "$$\n",
    "\\begin{align*}\n",
    "    R(\\theta) \n",
    "        &= E_{x|\\theta}\\left[\\ell(\\delta(x), \\theta)\\right] \\\\\n",
    "        &= \\begin{cases} \n",
    "                \\displaystyle \\sum_x \\ell(\\delta(x), \\theta) p(x|\\theta) & \\text{if $x$ discrete} \\\\\n",
    "                \\displaystyle \\int \\ell(\\delta(x), \\theta) p(x|\\theta) d\\theta & \\text{if $x$ continuous} \n",
    "           \\end{cases}\n",
    "\\end{align*}\n",
    "$$"
   ]
  },
  {
   "cell_type": "markdown",
   "id": "fa3b3455",
   "metadata": {},
   "source": [
    "The frequentist risk is a function of $\\theta$. It tells us: for a particular value of $\\theta$, how poorly does the procedure $\\delta$ do if we average over all possible datasets?"
   ]
  },
  {
   "cell_type": "markdown",
   "id": "87657f77",
   "metadata": {},
   "source": [
    "#### Bayesian loss analysis"
   ]
  },
  {
   "cell_type": "markdown",
   "id": "71f41991",
   "metadata": {},
   "source": [
    "In the Bayesian world, we assume that our unknown $\\theta$ is **random**. Since we observe a particular dataset $x$, we'll be a lot more interested in the randomness in $\\theta$ than the randomness in $x$. So, we'll condition on the particular dataset we got, and look at the average across different possibilities for the unknown parameter $\\theta$. We'll call our average the **Bayesian posterior risk**:\n",
    "\n",
    "$$\n",
    "\\begin{align*}\n",
    "    \\rho(x) \n",
    "        &= E_{\\theta|x}\\left[\\ell(\\delta(x), \\theta)\\right] \\\\\n",
    "        &= \\begin{cases} \n",
    "                \\displaystyle \\sum_\\theta \\ell(\\delta(x), \\theta) p(\\theta|x) & \\text{if $\\theta$ discrete} \\\\\n",
    "                \\displaystyle \\int \\ell(\\delta(x), \\theta) p(\\theta|x) d\\theta & \\text{if $\\theta$ continuous} \n",
    "           \\end{cases}\n",
    "\\end{align*}\n",
    "$$"
   ]
  },
  {
   "cell_type": "markdown",
   "id": "e9450455",
   "metadata": {},
   "source": [
    "The Bayesian risk is a function of $x$. It tells us: given that we observed a particular dataset $x$, how poorly does the procedure $\\delta$ do, averaged over all possible values of the parameter $\\theta$?"
   ]
  },
  {
   "cell_type": "markdown",
   "id": "8e0151dd",
   "metadata": {},
   "source": [
    "#### Comparing frequentist and Bayesian risk"
   ]
  },
  {
   "cell_type": "markdown",
   "id": "188096cb",
   "metadata": {},
   "source": [
    "Operationally, both of these look kind of similar: we're averaging the loss with respect to some conditional probability distribution. But conceptually, they're very different: the frequentist risk fixes the parameter, and averages over all the data;  the Bayesian posterior risk fixes the data, and averages over all parameters."
   ]
  },
  {
   "cell_type": "markdown",
   "id": "8e0f7356",
   "metadata": {},
   "source": [
    "### Example: frequentist risk for $\\ell_2$ loss and the bias-variance tradeoff"
   ]
  },
  {
   "cell_type": "markdown",
   "id": "fcf84569",
   "metadata": {},
   "source": [
    "Let's work through an example compuing the frequentist risk using the $\\ell_2$ loss. We'll find that the result can give us some important insights.\n"
   ]
  },
  {
   "cell_type": "markdown",
   "id": "fe76a9f9",
   "metadata": {},
   "source": [
    "$$\n",
    "\\begin{align}\n",
    "R(\\theta) \n",
    "&= E_{x|\\theta}\\left[\\ell(\\delta(x), \\theta)\\right] \\\\\n",
    "&= E_{x|\\theta}\\Big[\\big(\\delta(x) - \\theta\\big)^2\\Big] \\\\\n",
    "\\end{align}\n",
    "$$"
   ]
  },
  {
   "cell_type": "markdown",
   "id": "fff65cfe",
   "metadata": {},
   "source": [
    "To make the math work out later, we'll add and subtract the term $E_{x|\\theta}[\\delta(x)]$. Before we work out the result, let's think about what this term means. It's the average value of the procedure $\\delta$: in other words, for a particular $\\theta$, it tells us what value of $\\delta(x)$ we should expect to get, averaged across different possible values of $x$."
   ]
  },
  {
   "cell_type": "markdown",
   "id": "2d1f1fc0",
   "metadata": {},
   "source": [
    "$$\n",
    "\\begin{align}\n",
    "R(\\theta) \n",
    "&= E_{x|\\theta}\\Big[\\big(\\delta(x) - \\theta\\big)^2\\Big] \\\\\n",
    "&= E_{x|\\theta}\\Big[\\big(\n",
    "    \\delta(x) \\overbrace{- E_{x|\\theta}[\\delta(x)] + E_{x|\\theta}[\\delta(x)]}^{=0} - \\theta\n",
    "\\big)^2\\Big] \\\\\n",
    "&= E_{x|\\theta}\\Big[\\big(\n",
    "    \\underbrace{\\delta(x) - E_{x|\\theta}[\\delta(x)]}_{\\text{prediction minus avg. prediction}} + \n",
    "    \\underbrace{E_{x|\\theta}[\\delta(x)] - \\theta}_{\\text{avg. prediction minus true value}}\n",
    "\\big)^2\\Big] \\\\\n",
    "\\end{align}\n",
    "$$"
   ]
  },
  {
   "cell_type": "markdown",
   "id": "d2930c38",
   "metadata": {},
   "source": [
    "To make the math a little easier to read, we'll write $\\delta = \\delta(x)$ and $\\bar{\\delta} = E_{x|\\theta}[\\delta(x)]$:"
   ]
  },
  {
   "cell_type": "markdown",
   "id": "b9ef7fbc",
   "metadata": {},
   "source": [
    "$$\n",
    "\\begin{align}\n",
    "R(\\theta) \n",
    "&= E_{x|\\theta}\\Big[\\big(\n",
    "    \\delta(x) - E_{x|\\theta}[\\delta(x)] + E_{x|\\theta}[\\delta(x)] - \\theta\n",
    "\\big)^2\\Big] \\\\\n",
    "&= E_{x|\\theta}\\Big[\\big(\n",
    "    \\delta - \\bar{\\delta} + \\bar{\\delta} - \\theta\n",
    "\\big)^2\\Big] \\\\\n",
    "&= E_{x|\\theta}\\Big[\n",
    "    \\big(\\delta - \\bar{\\delta}\\big)^2 +\n",
    "    \\underbrace{2\\big(\\delta - \\bar{\\delta}\\big)\\big(\\bar{\\delta} - \\theta\\big)}_{=0} + \n",
    "    \\big(\\bar{\\delta} - \\theta\\big)^2\n",
    "\\Big] \\\\\n",
    "&= E_{x|\\theta}\\Big[\\big(\\delta - \\bar{\\delta}\\big)^2\\Big] + \n",
    "     E_{x|\\theta}\\Big[\\big(\\bar{\\delta} - \\theta\\big)^2\\Big] \\\\\n",
    "&= \\underbrace{E_{x|\\theta}\\Big[\\big(\\delta - \\bar{\\delta}\\big)^2\\Big]}_{\\text{variance of }\\delta(x)} + \n",
    "     \\big(\\underbrace{\\bar{\\delta} - \\theta}_{\\text{bias of }\\delta(x))}\\big)^2 \\\\\n",
    "\\end{align}\n",
    "$$"
   ]
  },
  {
   "cell_type": "markdown",
   "id": "e289f8d1",
   "metadata": {},
   "source": [
    "We've shown that for the $\\ell_2$ loss, the frequentist risk is the sum of two terms, called the **variance** and the square of the **bias**.\n",
    "\n",
    "The **variance**, $E_{x|\\theta}\\Big[\\big(\\delta(x) - E_{x|\\theta}[\\delta(x)]\\big)^2\\Big]$, answers the question: as the data varies, how far away will $\\delta$ be from its average value? In general, if your procedure $\\delta$ is very sensitive to variations in the data, your variance will be high.\n",
    "\n",
    "The **bias**, $E_{x|\\theta}[\\delta(x)] - \\theta$, answers the question: how far is the average value of $\\delta$ from the true parameter $\\theta$? In general, if your procedure $\\delta$ does a good job of capturing the complexity of predicting $\\theta$, your bias will be low.\n",
    "\n",
    "When trying to reduce the risk (average loss), most methods try to reduce the variance and/or the bias. Many methods for estimation and prediction try to deal with the tradeoff between variance and bias: ideally we'd like both to be as small as possible, but we often need to accept a little more of one in order to make big reductions in the other."
   ]
  },
  {
   "cell_type": "markdown",
   "id": "d25579a1",
   "metadata": {},
   "source": [
    "### Bayes risk"
   ]
  },
  {
   "cell_type": "markdown",
   "id": "f386209b",
   "metadata": {},
   "source": [
    "The two risks above are obtained by taking the expectation with respect to either the data $x$ or the parameter $\\theta$. What if we take the expectation with respect to both? The **Bayes risk** is exactly that:\n",
    "\n",
    "$$\n",
    "\\begin{align*}\n",
    "R(\\delta) \n",
    "&= E_{x, \\theta} [\\ell(\\delta(x), \\theta)]  \\\\\n",
    "&= E_\\theta [R(\\theta)] \\\\\n",
    "&= E_x [R(x)]\n",
    "\\end{align*}\n",
    "$$\n",
    "\n",
    "where the last two inequalities follow from Fubini's theorem (i.e., that we can do the integrals for the expectations in either order and get the same result). The Bayes risk is a single number that summarizes the procedure $\\delta$. The name is somewhat misleading: it isn't really Bayesian or frequentist."
   ]
  }
 ],
 "metadata": {
  "kernelspec": {
   "display_name": "Python 3 (ipykernel)",
   "language": "python",
   "name": "python3"
  },
  "language_info": {
   "codemirror_mode": {
    "name": "ipython",
    "version": 3
   },
   "file_extension": ".py",
   "mimetype": "text/x-python",
   "name": "python",
   "nbconvert_exporter": "python",
   "pygments_lexer": "ipython3",
   "version": "3.11.5"
  }
 },
 "nbformat": 4,
 "nbformat_minor": 5
}
