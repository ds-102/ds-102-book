{
 "cells": [
  {
   "cell_type": "markdown",
   "id": "3fba61ab",
   "metadata": {},
   "source": [
    "# Uncertainty Quantification"
   ]
  },
  {
   "cell_type": "code",
   "execution_count": 5,
   "id": "b3ed01f3",
   "metadata": {},
   "outputs": [],
   "source": [
    "import numpy as np\n",
    "import pandas as pd\n",
    "from IPython.display import YouTubeVideo\n",
    "from scipy import stats\n",
    "\n",
    "import statsmodels.api as sm\n",
    "import pymc as pm\n",
    "import arviz as az\n",
    "import bambi as bmb\n",
    "\n",
    "%matplotlib inline\n",
    "\n",
    "import matplotlib.pyplot as plt\n",
    "import seaborn as sns\n",
    "\n",
    "# Turn off logging (console output) for PyMC\n",
    "import logging\n",
    "logging.getLogger(\"pymc\").setLevel(logging.ERROR)\n",
    "\n",
    "sns.set()"
   ]
  },
  {
   "cell_type": "markdown",
   "id": "8e8f96e5",
   "metadata": {},
   "source": [
    "(Almost) every dataset we work with has some amount of uncertainty in it. Everything from the randomness in a sample, measurement error, differences between the data and the underlying truth they represent, and much more can lead to uncertainty. \n",
    "\n",
    "Therefore, anything we **compute** using the data also inherits some uncertainty. So, it's important to always report that uncertainty:\n",
    "* If we infer a parameter or trend, we should report our uncertainty in the inference.\n",
    "* If we make a prediction, we should report our uncertainty in the prediction.\n",
    "* If we draw a conclusion, we should report our uncertainty in the conclusion.\n",
    "\n",
    "While uncertainty quantification looks slightly different from frequentist and Bayesian perspectives, the core ideas above remain true regardless."
   ]
  },
  {
   "cell_type": "markdown",
   "id": "adb52979",
   "metadata": {},
   "source": [
    "## Frequentist Uncertainty Quantification"
   ]
  },
  {
   "cell_type": "markdown",
   "id": "b8a14cbc",
   "metadata": {},
   "source": [
    "In the frequentist setting, we treat our data as random, but our unknowns as fixed. So, any uncertainty we quantify is only over the data! We **cannot** make statements like \"*The unknown is probably within*\" or \"*The probability of the parameter being..*\".\n",
    "\n",
    "While these statements can be more intuitive and might align with what we want to say when quantifying uncertainty, they only make sense in the context of a probability model for the unknown: we'll have to take a Bayesian approach in order to say anything of this sort.\n",
    "\n",
    "The main way we'll quantify uncertainty in the frequentist setting is by using the distribution of our estimators. Specifically, whenever we estimate some parameter $\\theta$ with an estimator $\\hat{\\theta} = f(x_1, \\ldots, x_n)$, the estimator is random, because it depends on the random data (even if $\\theta$ is fixed). So, we can use the distribution of $\\hat{\\theta}$ to quantify uncertainty.\n",
    "\n",
    "We already know that if we have the distribution of $\\hat{\\theta}$, we can construct a **confidence interval**, which gives us an idea of how much our estimator could vary if we had observed different datasets. But before we can construct one, we need to determine the distribution for $\\hat{\\theta}$."
   ]
  },
  {
   "cell_type": "code",
   "execution_count": 2,
   "id": "4fd2dd9a",
   "metadata": {
    "tags": [
     "remove-input"
    ]
   },
   "outputs": [
    {
     "data": {
      "text/html": [
       "\n",
       "        <iframe\n",
       "            width=\"400\"\n",
       "            height=\"300\"\n",
       "            src=\"https://www.youtube.com/embed/ZDqSXtm0vBM\"\n",
       "            frameborder=\"0\"\n",
       "            allowfullscreen\n",
       "            \n",
       "        ></iframe>\n",
       "        "
      ],
      "text/plain": [
       "<IPython.lib.display.YouTubeVideo at 0x15f183cd0>"
      ]
     },
     "execution_count": 2,
     "metadata": {},
     "output_type": "execute_result"
    }
   ],
   "source": [
    "YouTubeVideo('ZDqSXtm0vBM')"
   ]
  },
  {
   "cell_type": "markdown",
   "id": "463a62aa",
   "metadata": {},
   "source": [
    "### UQ with the Central Limit Theorem\n",
    "\n",
    "*For more on the Central Limit Theorem, see [Chapter 14 of the Data 140 textbook](https://data140.org/textbook/content/Chapter_14/00_The_Central_Limit_Theorem.html).*\n",
    "\n",
    "If we want to use the distribution of $\\hat{\\theta}$ to quantify our uncertainty, then we have to start by answering: \"what is the distribution of $\\hat{\\theta}$?\n",
    "\n",
    "In the case where $\\theta$ is the sample mean, we can answer this with one of the most beautiful results in statistics: the **Central Limit Theorem**. Briefly, this states that if $\\hat{\\mu}$ is the sample mean of data points $x_1, \\ldots, x_n$, where each $x_i$ has mean $\\mu$ and (finite) variance $\\sigma^2$, then the distribution of $\\hat{\\mu}$ converges to a normal distribution with mean $\\mu$ and variance $\\sigma^2/n$. \n",
    "\n",
    "Note that a similar result holds for any maximum likelihood estimate! While the details are beyond the scope of this class, one can show that if $\\hat{\\theta}_{MLE}$ is the maximum likelihood estimate for some parameter $\\theta$ based on data points $x_1, \\ldots, x_n$, then the distribution for $\\hat{\\theta}_{MLE}$ **also** converges to a normal distribution, with mean $\\theta$ and variance $1/(nI(\\theta))$. Here, $I(\\theta)$ is the [Fisher informatoin](https://en.wikipedia.org/wiki/Fisher_information) of the likelihood, which quantifies how much information each $x_i$ gives us about $\\theta$. \n",
    "\n",
    "While the details (e.g., Fisher information) are beyond the scope of this class, the takeaway is important: \n",
    "\n",
    "Asymptotically (i.e., as the number of observations gets very large), **the distribution of a maximum likelihood estimator, like that of a sample mean, converges to a normal distribution**."
   ]
  },
  {
   "cell_type": "code",
   "execution_count": null,
   "id": "c4a108fc",
   "metadata": {
    "tags": [
     "remove-input"
    ]
   },
   "outputs": [],
   "source": [
    "YouTubeVideo('TiqwK0YYrNo')"
   ]
  },
  {
   "cell_type": "markdown",
   "id": "5b967981",
   "metadata": {},
   "source": [
    "### UQ with the Bootstrap\n",
    "\n",
    "*You may find it helpful to review [Chapter 13.2 of the Data 8 textbook](https://inferentialthinking.com/chapters/13/2/Bootstrap.html), which covers the bootstrap.*\n",
    "\n",
    "In many cases, we might not be able to compute the distribution of $\\hat{\\theta}$ analytically. In some of these cases, we can use the **bootstrap** to quantify uncertainty.\n",
    "\n",
    "#### Bootstrap limitations\n",
    "\n",
    "*Coming soon*\n",
    "\n",
    "The bootstrap works well in most, but not all situations. Here are some guidelines for when to (and when not to) use it:\n",
    "* The bootstrap is a **good** choice when the presence or absence of a single sample won't change the estimate dramatically (e.g., this is not true for the min or max)\n",
    "* The bootstrap is a **good** choice when the number of data points is very small\n",
    "* The bootstrap is a **good** choice when the number of parameters $d$ being estimated is much smaller than the number of data points $n$ (e.g., this is not true for neural networks, where we are estimating a very large number of parameters)"
   ]
  },
  {
   "cell_type": "code",
   "execution_count": null,
   "id": "da107239",
   "metadata": {
    "tags": [
     "remove-input"
    ]
   },
   "outputs": [],
   "source": [
    "YouTubeVideo('hmQAc5VMBDY')"
   ]
  },
  {
   "cell_type": "code",
   "execution_count": null,
   "id": "0109b246",
   "metadata": {
    "tags": [
     "remove-input"
    ]
   },
   "outputs": [],
   "source": [
    "YouTubeVideo('ZQfrPKruYLg')"
   ]
  },
  {
   "cell_type": "markdown",
   "id": "bc2b56dc",
   "metadata": {},
   "source": [
    "### Confidence intervals\n",
    "\n",
    "*You may find it helpful to review [Section 13.3 of the Data 8 textbook](https://inferentialthinking.com/chapters/13/3/Confidence_Intervals.html), which covers confidence intervals.*\n",
    "\n",
    "A confidence interval provides a measure of uncertainty about our estimator, based on its distribution. Recall that confidence intervals provide a guarantee about the process, not about the location of the (fixed) unknown parameter. Specifically, thinking about a 95% confidence interval, we know that 95% of datasets will produce an interval that contains the true parameter. We don't know whether our interval happens to be one of the lucky 95%, or one of the unlucky 5%."
   ]
  },
  {
   "cell_type": "code",
   "execution_count": null,
   "id": "c8f98b57",
   "metadata": {
    "tags": [
     "remove-input"
    ]
   },
   "outputs": [],
   "source": [
    "YouTubeVideo('Zn9NqVID-qg')"
   ]
  },
  {
   "cell_type": "markdown",
   "id": "78233414",
   "metadata": {},
   "source": [
    "### Uncertainty in GLMs: comparing coefficient and prediction intervals "
   ]
  },
  {
   "cell_type": "markdown",
   "id": "4e52cd64",
   "metadata": {},
   "source": [
    "When quantifying uncertainty in GLMs, it's important to keep in mind that there are multiple sources of uncertainty. For example, consider our estimate of the coefficients, $\\hat{\\beta}$, computed from data $(x_1, y_1), \\ldots, (x_n, y_n)$. These are computed as the maximum likelihood estimates given the observed data, and so have inherent uncertainty in them. In other words, if we had observed a different dataset, we might have gotten a different set of estimated coefficients $\\hat{\\beta}$.\n",
    "\n",
    "Now, consider our estimated prediction for a new data point, $\\hat{y}_{n+1}$. To simplify, we'll focus on linear regression with a scalar $x$. In this case, we can write the distribution for the new value $y_{n+1}$ as:\n",
    "$$\n",
    "\\hat{y}_{n+1} \\sim \\mathcal{N}\\left(\\hat{\\beta}_0 + \\hat{\\beta}_1 x_{n+1}\\,,\\, \\sigma^2\\right)\n",
    "$$\n",
    "Here, there are two sources of uncertainty: (1) the uncertainty in our estimator for the coefficients, $\\hat{\\beta}$; and (2) the uncertainty in the observed value and how far away it'll be from the average prediction (i.e., prediction line), as quantified by $\\sigma$.\n",
    "\n",
    "So, if we want to construct a confidence interval for $\\hat{\\beta}_0$, we need only consider the first source of uncertainty. But, if we want to construct a confidence interval for $\\hat{y}_{n+1}$, we need to consider **both** sources of uncertainty! This second type of interval is often called a **prediction interval**."
   ]
  },
  {
   "cell_type": "markdown",
   "id": "6b4b4f42",
   "metadata": {},
   "source": [
    "### Using Bootstrap to Quantify Uncertainty in GLMs\n",
    "\n",
    "*Text coming soon: see video*"
   ]
  },
  {
   "cell_type": "code",
   "execution_count": null,
   "id": "50f64904",
   "metadata": {
    "tags": [
     "remove-input"
    ]
   },
   "outputs": [],
   "source": [
    "YouTubeVideo('73I1wfQfmf4')"
   ]
  },
  {
   "cell_type": "markdown",
   "id": "2c1d9058",
   "metadata": {},
   "source": [
    "## Bayesian Uncertainty Quantification"
   ]
  },
  {
   "cell_type": "markdown",
   "id": "2f4feafe",
   "metadata": {},
   "source": [
    "In the Bayesian setting, we treat our unknown parameters as random. This means that we can make statements like \"The unknown is probably between A and B\", which we couldn't in the frequentist setting. \n",
    "\n",
    "This motivates the definition of a **credible interval**. A $p\\%$ credible interval for a parameter $\\theta$, $(a, b)$, says that there is a $p\\%$ chance that, given the observed data, the parameter $\\theta$ falls between $a$ and $b$. For example, suppose we produce $90\\%$ confidence interval for $\\theta$ of $(0.3, 1.7)$. This tells us that given our observed data, the probability of $\\theta$ being between 0.3 and 1.7 is $0.9$, or equivalently $\\int_{0.3}^{1.7} p(\\theta|x_1, \\ldots, x_n) d\\theta = 0.9$ (assuming $\\theta$ is continuous).\n",
    "\n",
    "Notice how much simpler this definition is than the confidence interval! This is one of the advantages of taking a Bayesian approach: treating our unknown as random lets us make intuitive statements about the probability that it takes on certain values."
   ]
  },
  {
   "cell_type": "code",
   "execution_count": null,
   "id": "330a6ed9",
   "metadata": {
    "tags": [
     "remove-input"
    ]
   },
   "outputs": [],
   "source": [
    "YouTubeVideo('nGeZ7G34jPI')"
   ]
  },
  {
   "cell_type": "markdown",
   "id": "c5c17bf5",
   "metadata": {},
   "source": [
    "However, one problem with this definition is that it is **not unique**! Indeed, there are many possible credible intervals for a given level of confidence/credibility. Consider the following distribution, and the three possible $80\\%$ credible intervals. For all three, the total shaded blue area is $80\\%$, so all three are valid $80\\%$ credible intervals. Which one would you prefer?"
   ]
  },
  {
   "cell_type": "markdown",
   "id": "c67810b6",
   "metadata": {},
   "source": [
    "![](credible_interval_comparison.png)"
   ]
  },
  {
   "cell_type": "markdown",
   "id": "31ea7d7c",
   "metadata": {},
   "source": [
    "The one in the center seems the most appealing: it covers an area of highest density, and is also the narrowest. This motivates the definition of a **highest density interval (HDI)**, sometimes also called a highest posterior density (HPD) interval. The HDI is the narrowest interval for a given level of credibility/confidence.\n",
    "\n",
    "*Exercise: is the HDI always unique? If not, then what constraints could we place on the posterior to ensure it's unique?*\n",
    "\n",
    "We can see that the intervals we saw in Section 3.3 were HDIs that PyMC automatically constructed for us."
   ]
  },
  {
   "cell_type": "code",
   "execution_count": null,
   "id": "16973a68",
   "metadata": {
    "tags": [
     "remove-input"
    ]
   },
   "outputs": [],
   "source": [
    "YouTubeVideo('8ozFH1ZN7Qw')"
   ]
  },
  {
   "cell_type": "markdown",
   "id": "0f7e77d4",
   "metadata": {},
   "source": [
    "#### Constructing HDIs from samples\n",
    "\n",
    "Given a posterior in closed form, we could analytically find $a$ and $b$ to minimize the width of the interval. But in practice, we rarely obtain posterior distributions in closed form: we usually end up approximating them with samples. So, how might we find an HDI with samples?\n",
    "\n",
    "Let's do a simple example with some samples from a Beta distribution:"
   ]
  },
  {
   "cell_type": "code",
   "execution_count": 15,
   "id": "594a5e93",
   "metadata": {},
   "outputs": [
    {
     "data": {
      "text/plain": [
       "array([0.17081734, 0.20902696, 0.470354  , 0.47062928, 0.48765893])"
      ]
     },
     "execution_count": 15,
     "metadata": {},
     "output_type": "execute_result"
    }
   ],
   "source": [
    "num_samples = 200\n",
    "samples = stats.beta(3, 4).rvs(num_samples)\n",
    "samples[:5]"
   ]
  },
  {
   "cell_type": "markdown",
   "id": "4c5598c6",
   "metadata": {},
   "source": [
    "Call the samples $\\theta_1, \\ldots, \\theta_{100}$. We can construct a $90\\%$ credible interval by sorting the samples, choosing any $i$ and $j$ so that $(j-i)/200 = 0.9$, and reporting $[\\theta_i, \\theta_j]$:"
   ]
  },
  {
   "cell_type": "code",
   "execution_count": 16,
   "id": "079ae7c3",
   "metadata": {},
   "outputs": [
    {
     "name": "stdout",
     "output_type": "stream",
     "text": [
      "(0.15168631234962443, 0.7036090549997918)\n",
      "(0.15928179680504737, 0.7478918094936354)\n"
     ]
    }
   ],
   "source": [
    "sorted_samples = np.sort(samples)\n",
    "(i1, j1) = (10, 190)\n",
    "(i2, j2) = (15, 195)\n",
    "credible_interval_1 = (sorted_samples[i1], sorted_samples[j1])\n",
    "credible_interval_2 = (sorted_samples[i2], sorted_samples[j2])\n",
    "print(credible_interval_1)\n",
    "print(credible_interval_2)"
   ]
  },
  {
   "cell_type": "markdown",
   "id": "89c63956",
   "metadata": {},
   "source": [
    "How can we find the HDI? We can simply search over all intervals of width $200 \\times 0.9 = 180$, and find the narrowest one."
   ]
  },
  {
   "cell_type": "code",
   "execution_count": 24,
   "id": "5a144f5d",
   "metadata": {},
   "outputs": [
    {
     "name": "stdout",
     "output_type": "stream",
     "text": [
      "(0.14327913122508645, 0.6929510437499439)\n"
     ]
    }
   ],
   "source": [
    "credibility = 0.9\n",
    "narrowest_start_so_far = -1\n",
    "narrowest_width_so_far = np.inf\n",
    "interval_samples = int(num_samples * credibility)\n",
    "for start in range(20): # Make sure you understand why we can stop at 20!\n",
    "    end = start + interval_samples\n",
    "    width = sorted_samples[end] - sorted_samples[start]\n",
    "    if width < narrowest_width_so_far:\n",
    "        narrowest_start_so_far = start\n",
    "        narrowest_width_so_far = width\n",
    "print((\n",
    "    sorted_samples[narrowest_start_so_far],  \n",
    "    sorted_samples[narrowest_start_so_far + interval_samples]\n",
    "))"
   ]
  },
  {
   "cell_type": "markdown",
   "id": "967f430f",
   "metadata": {},
   "source": [
    "### Bayesian UQ for Predictions\n",
    "\n",
    "Just as in the frequentist world, in Bayesian GLMs, we can also construct credible intervals for our predictions! These will be constructed using the posterior predictive density, and inherit the uncertainty in the inference for the unknown coefficients as well as the uncertainty in the inference for parameters like $\\sigma$ in linear regression."
   ]
  },
  {
   "cell_type": "code",
   "execution_count": null,
   "id": "89eecfc9",
   "metadata": {
    "tags": [
     "remove-input"
    ]
   },
   "outputs": [],
   "source": [
    "YouTubeVideo('9wtfEgpIn8k')"
   ]
  }
 ],
 "metadata": {
  "celltoolbar": "Edit Metadata",
  "kernelspec": {
   "display_name": "Python 3 (ipykernel)",
   "language": "python",
   "name": "python3"
  },
  "language_info": {
   "codemirror_mode": {
    "name": "ipython",
    "version": 3
   },
   "file_extension": ".py",
   "mimetype": "text/x-python",
   "name": "python",
   "nbconvert_exporter": "python",
   "pygments_lexer": "ipython3",
   "version": "3.11.5"
  }
 },
 "nbformat": 4,
 "nbformat_minor": 5
}
