{
 "cells": [
  {
   "cell_type": "code",
   "execution_count": 53,
   "id": "0ce2cf9f",
   "metadata": {},
   "outputs": [],
   "source": [
    "import numpy as np\n",
    "import pandas as pd\n",
    "from sklearn.metrics import confusion_matrix, roc_curve, precision_recall_curve\n",
    "\n",
    "%matplotlib inline\n",
    "\n",
    "import matplotlib.pyplot as plt\n",
    "import seaborn as sns\n",
    "sns.set()"
   ]
  },
  {
   "cell_type": "markdown",
   "id": "0e7ceaee",
   "metadata": {},
   "source": [
    "# Binary Classification\n",
    "\n",
    "In binary classification, just as in the previous section, we're also trying to make a binary decision. A key difference is that instead of using the language of hypothesis testing, we use the language of machine learning and classification: we have data points that we're trying to classify as belonging to one of two groups, which (without loss of generality) we'll call class 0 and class 1.\n",
    "\n",
    "In hypothesis testing, we made our decision using $p$-values, which captured the probability (for each test), given the data, that our data were observed under some null hypothesis. In binary classification, we're interested in the probability, given the data, that our data were observed under class 0 or under class 1. Most classification algorithms will give us some arbitrary number. These numbers are often, but not always, between 0 and 1, in which case we can interpret them as the probability of belonging to class 1. We typically apply a threshold to that number to obtain a binary decision. \n",
    "\n",
    "For example, logistic regression produces probabilities: for a particular datum, a logistic regression classifier might predict that it has a 0.7 probability of belonging to class 1. We apply some threshold (often, but not always 0.5): if our value is above the threshold (as in this case), we make a decision of 1; otherwise, we make a decision of 0.\n",
    "\n",
    "While the mechanics of obtaining a decision are different for binary classification, the big ideas we've learned in the last few section remain just as relevant: in particular, we can think about the tradeoffs involved by understanding the row-wise and columnn-wise error rates. In binary classification, we visualize and analyze these error rates primarily through two visualizations: a receiver operating characteristic (ROC) curve, and a precision-recall curve.\n",
    "\n",
    "## ROC Curves: Trading off Row-Wise Rates\n",
    "\n",
    "ROC curves help us visualize the tradeoff between different **row-wise rates**. Let's make things concrete with an example. Suppose a manufacturing company trains a classifier that uses computer vision (e.g., a vision transformer) to predict whether each product coming off its assembly line is defective (1) or not (0). They obtain the following results on a held-out test set:"
   ]
  },
  {
   "cell_type": "code",
   "execution_count": 35,
   "id": "b346f452",
   "metadata": {},
   "outputs": [
    {
     "data": {
      "text/html": [
       "<div>\n",
       "<style scoped>\n",
       "    .dataframe tbody tr th:only-of-type {\n",
       "        vertical-align: middle;\n",
       "    }\n",
       "\n",
       "    .dataframe tbody tr th {\n",
       "        vertical-align: top;\n",
       "    }\n",
       "\n",
       "    .dataframe thead th {\n",
       "        text-align: right;\n",
       "    }\n",
       "</style>\n",
       "<table border=\"1\" class=\"dataframe\">\n",
       "  <thead>\n",
       "    <tr style=\"text-align: right;\">\n",
       "      <th></th>\n",
       "      <th>is_defective</th>\n",
       "      <th>predicted_prob</th>\n",
       "    </tr>\n",
       "  </thead>\n",
       "  <tbody>\n",
       "    <tr>\n",
       "      <th>0</th>\n",
       "      <td>False</td>\n",
       "      <td>0.284021</td>\n",
       "    </tr>\n",
       "    <tr>\n",
       "      <th>1</th>\n",
       "      <td>False</td>\n",
       "      <td>0.277903</td>\n",
       "    </tr>\n",
       "    <tr>\n",
       "      <th>2</th>\n",
       "      <td>True</td>\n",
       "      <td>0.653581</td>\n",
       "    </tr>\n",
       "    <tr>\n",
       "      <th>3</th>\n",
       "      <td>False</td>\n",
       "      <td>0.090320</td>\n",
       "    </tr>\n",
       "    <tr>\n",
       "      <th>4</th>\n",
       "      <td>False</td>\n",
       "      <td>0.173007</td>\n",
       "    </tr>\n",
       "  </tbody>\n",
       "</table>\n",
       "</div>"
      ],
      "text/plain": [
       "   is_defective  predicted_prob\n",
       "0         False        0.284021\n",
       "1         False        0.277903\n",
       "2          True        0.653581\n",
       "3         False        0.090320\n",
       "4         False        0.173007"
      ]
     },
     "execution_count": 35,
     "metadata": {},
     "output_type": "execute_result"
    }
   ],
   "source": [
    "defects = pd.read_csv('manufacturing.csv')\n",
    "defects.head()"
   ]
  },
  {
   "cell_type": "code",
   "execution_count": 36,
   "id": "bbd906e6",
   "metadata": {},
   "outputs": [],
   "source": [
    "def formatted_confusion_matrix(y_true, y_pred):\n",
    "    return pd.DataFrame(\n",
    "        data=confusion_matrix(y_true, y_pred),\n",
    "        index=['R=0', 'R=1'],\n",
    "        columns=['D=0', 'D=1']\n",
    "    )"
   ]
  },
  {
   "cell_type": "code",
   "execution_count": 47,
   "id": "0300a7f8",
   "metadata": {},
   "outputs": [
    {
     "data": {
      "text/html": [
       "<div>\n",
       "<style scoped>\n",
       "    .dataframe tbody tr th:only-of-type {\n",
       "        vertical-align: middle;\n",
       "    }\n",
       "\n",
       "    .dataframe tbody tr th {\n",
       "        vertical-align: top;\n",
       "    }\n",
       "\n",
       "    .dataframe thead th {\n",
       "        text-align: right;\n",
       "    }\n",
       "</style>\n",
       "<table border=\"1\" class=\"dataframe\">\n",
       "  <thead>\n",
       "    <tr style=\"text-align: right;\">\n",
       "      <th></th>\n",
       "      <th>D=0</th>\n",
       "      <th>D=1</th>\n",
       "    </tr>\n",
       "  </thead>\n",
       "  <tbody>\n",
       "    <tr>\n",
       "      <th>R=0</th>\n",
       "      <td>641</td>\n",
       "      <td>167</td>\n",
       "    </tr>\n",
       "    <tr>\n",
       "      <th>R=1</th>\n",
       "      <td>36</td>\n",
       "      <td>156</td>\n",
       "    </tr>\n",
       "  </tbody>\n",
       "</table>\n",
       "</div>"
      ],
      "text/plain": [
       "     D=0  D=1\n",
       "R=0  641  167\n",
       "R=1   36  156"
      ]
     },
     "execution_count": 47,
     "metadata": {},
     "output_type": "execute_result"
    }
   ],
   "source": [
    "formatted_confusion_matrix(defects['is_defective'], defects['predicted_prob'] > 0.5)"
   ]
  },
  {
   "cell_type": "code",
   "execution_count": 40,
   "id": "c273a2e0",
   "metadata": {},
   "outputs": [
    {
     "data": {
      "text/html": [
       "<div>\n",
       "<style scoped>\n",
       "    .dataframe tbody tr th:only-of-type {\n",
       "        vertical-align: middle;\n",
       "    }\n",
       "\n",
       "    .dataframe tbody tr th {\n",
       "        vertical-align: top;\n",
       "    }\n",
       "\n",
       "    .dataframe thead th {\n",
       "        text-align: right;\n",
       "    }\n",
       "</style>\n",
       "<table border=\"1\" class=\"dataframe\">\n",
       "  <thead>\n",
       "    <tr style=\"text-align: right;\">\n",
       "      <th></th>\n",
       "      <th>D=0</th>\n",
       "      <th>D=1</th>\n",
       "    </tr>\n",
       "  </thead>\n",
       "  <tbody>\n",
       "    <tr>\n",
       "      <th>R=0</th>\n",
       "      <td>364</td>\n",
       "      <td>444</td>\n",
       "    </tr>\n",
       "    <tr>\n",
       "      <th>R=1</th>\n",
       "      <td>2</td>\n",
       "      <td>190</td>\n",
       "    </tr>\n",
       "  </tbody>\n",
       "</table>\n",
       "</div>"
      ],
      "text/plain": [
       "     D=0  D=1\n",
       "R=0  364  444\n",
       "R=1    2  190"
      ]
     },
     "execution_count": 40,
     "metadata": {},
     "output_type": "execute_result"
    }
   ],
   "source": [
    "formatted_confusion_matrix(defects['is_defective'], defects['predicted_prob'] > 0.2)"
   ]
  },
  {
   "cell_type": "markdown",
   "id": "d4c080b3",
   "metadata": {},
   "source": [
    "Just as before, we can see the same tradeoff between the row-wise rates: as our TPR increases (i.e., we are better at catching defective products), our FPR also increases (i.e., we get worse with non-defective products). The examples above show two points on that tradeoff, but there exists one such point for each different possible threshold value. Instead of computing and manually reviewing the confusion matrix for each threshold, we can instead visualize the TPR and FPR associated with each possible one by using the `roc_curve` function in `scikit-learn`:"
   ]
  },
  {
   "cell_type": "code",
   "execution_count": 34,
   "id": "ce2f7700",
   "metadata": {},
   "outputs": [
    {
     "data": {
      "image/png": "[encoded data removed]",
      "text/plain": [
       "<Figure size 400x400 with 1 Axes>"
      ]
     },
     "metadata": {},
     "output_type": "display_data"
    }
   ],
   "source": [
    "fprs, tprs, thresholds_roc = roc_curve(defects['is_defective'], defects['predicted_prob'])\n",
    "\n",
    "f, ax = plt.subplots(1, 1, figsize=(4, 4))\n",
    "ax.plot(fprs, tprs)\n",
    "ax.set_xlabel('FPR')\n",
    "ax.set_ylabel('TPR')\n",
    "ax.axis('equal')\n",
    "ax.set_title('Receiver operating characteristic (ROC) curve');"
   ]
  },
  {
   "cell_type": "markdown",
   "id": "b0a69595",
   "metadata": {},
   "source": [
    "Each point on this graph represents one threshold. For example, the point at around (0.2, 0.8) tells us that if we choose that particular threshold value, we'll achieve a false positive rate of 0.2 and a true positive rate of 0.8. \n",
    "\n",
    "What if that FPR was unacceptably high? We could instead choose a threshold corresponding to the point at around (0.1, 0.4). This tells us that if we want a smaller FPR of 0.1, we have to accept a much lower TPR of 0.1.\n",
    "\n",
    "This provides us a way of clearly visualizing the tradeoffs involved, at least as far as the row-wise rates are concerned.\n",
    "\n",
    "**Exercise**: write code to find the threshold value that gives us an FPR as close as possible to 0.2. *Hint: use the `thresholds_roc` array.*"
   ]
  },
  {
   "cell_type": "markdown",
   "id": "170b93f4",
   "metadata": {},
   "source": [
    "### Precision-Recall Curves and Column-Wise Rates"
   ]
  },
  {
   "cell_type": "markdown",
   "id": "4d668b7f",
   "metadata": {},
   "source": [
    "We saw in previous sections that the row-wise rates alone can't tell us the whole story! We saw that in cases where the prevalence is low, even if we have relatively high row-wise rates, our column-wise rates can be quite low. In this example, a threshold of 0.5 leads to a TPR and TNR close to 0.8 (i.e., our algorithm is about $80\\%$ accurate for defective products and about $80\\%$ accurate for non-defective products), but a prediction of \"defective\" will be wrong more than half the time!"
   ]
  },
  {
   "cell_type": "code",
   "execution_count": 52,
   "id": "db647b6a",
   "metadata": {},
   "outputs": [
    {
     "data": {
      "text/html": [
       "<div>\n",
       "<style scoped>\n",
       "    .dataframe tbody tr th:only-of-type {\n",
       "        vertical-align: middle;\n",
       "    }\n",
       "\n",
       "    .dataframe tbody tr th {\n",
       "        vertical-align: top;\n",
       "    }\n",
       "\n",
       "    .dataframe thead th {\n",
       "        text-align: right;\n",
       "    }\n",
       "</style>\n",
       "<table border=\"1\" class=\"dataframe\">\n",
       "  <thead>\n",
       "    <tr style=\"text-align: right;\">\n",
       "      <th></th>\n",
       "      <th>D=0</th>\n",
       "      <th>D=1</th>\n",
       "    </tr>\n",
       "  </thead>\n",
       "  <tbody>\n",
       "    <tr>\n",
       "      <th>R=0</th>\n",
       "      <td>641</td>\n",
       "      <td>167</td>\n",
       "    </tr>\n",
       "    <tr>\n",
       "      <th>R=1</th>\n",
       "      <td>36</td>\n",
       "      <td>156</td>\n",
       "    </tr>\n",
       "  </tbody>\n",
       "</table>\n",
       "</div>"
      ],
      "text/plain": [
       "     D=0  D=1\n",
       "R=0  641  167\n",
       "R=1   36  156"
      ]
     },
     "metadata": {},
     "output_type": "display_data"
    },
    {
     "name": "stdout",
     "output_type": "stream",
     "text": [
      "0.8125 0.7933168316831684\n"
     ]
    }
   ],
   "source": [
    "display(formatted_confusion_matrix(defects['is_defective'], defects['predicted_prob'] > 0.5))\n",
    "print(156/(36+156), 641/(167+641))"
   ]
  },
  {
   "cell_type": "markdown",
   "id": "20a1ad31",
   "metadata": {},
   "source": [
    "Just as the ROC curve plots the true positive rate against the false positive rate, a precision-recall curve plots the precision against the recall.\n",
    "\n",
    "Remember from before that the **precision** is the complement of the FDP: in other words, it describes how well we do when we make a decision of $D=1$, or in this case, when the classifier flags a product as defective. The **recall** is just another term for the true positive rate (which we've also referred to as the power and sensitivity). Plotting these two helps us understand the tradeoffs between row-wise and column-wise rates. Let's see what it looks like for the example above:"
   ]
  },
  {
   "cell_type": "code",
   "execution_count": 58,
   "id": "34722a1d",
   "metadata": {},
   "outputs": [
    {
     "data": {
      "image/png": "[encoded data removed]",
      "text/plain": [
       "<Figure size 400x400 with 1 Axes>"
      ]
     },
     "metadata": {},
     "output_type": "display_data"
    }
   ],
   "source": [
    "precisions, recalls, thresholds_pr = precision_recall_curve(defects['is_defective'], defects['predicted_prob'])\n",
    "\n",
    "f, ax = plt.subplots(1, 1, figsize=(4, 4))\n",
    "ax.plot(recalls, precisions)\n",
    "ax.set_xlabel('Recall (TPR)')\n",
    "ax.set_ylabel('Precision')\n",
    "ax.axis('equal')\n",
    "ax.set_title('Precision-recall curve');"
   ]
  },
  {
   "cell_type": "markdown",
   "id": "768ca948",
   "metadata": {},
   "source": [
    "We can see that this tells us a complementary story. We can see that the left part of the curve is very noisy, and in the center, as recall improves, precision improves up to about 0.55 until it starts dropping off quickly for much higher values of the recall. What does this mean?\n",
    "\n",
    "**Exercise**: explain why the left part of the curve looks so noisy. *Hint: consider what kind of threshold will lead to very low recall, and then explain how that kind of threshold affects the denominator in our precision calculation.*\n",
    "\n",
    "**Exercise**: explain why the precision increases with recall for a while before decreasing for recall values higher than about 0.6."
   ]
  }
 ],
 "metadata": {
  "kernelspec": {
   "display_name": "Python 3 (ipykernel)",
   "language": "python",
   "name": "python3"
  },
  "language_info": {
   "codemirror_mode": {
    "name": "ipython",
    "version": 3
   },
   "file_extension": ".py",
   "mimetype": "text/x-python",
   "name": "python",
   "nbconvert_exporter": "python",
   "pygments_lexer": "ipython3",
   "version": "3.11.5"
  }
 },
 "nbformat": 4,
 "nbformat_minor": 5
}
