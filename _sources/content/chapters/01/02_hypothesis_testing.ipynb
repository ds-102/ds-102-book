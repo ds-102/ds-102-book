{
 "cells": [
  {
   "cell_type": "markdown",
   "id": "confirmed-death",
   "metadata": {},
   "source": [
    "# Hypothesis Testing"
   ]
  },
  {
   "cell_type": "code",
   "execution_count": 1,
   "id": "f2d8af8f",
   "metadata": {
    "tags": [
     "hide-cell"
    ]
   },
   "outputs": [],
   "source": [
    "import numpy as np\n",
    "import pandas as pd\n",
    "import matplotlib.pyplot as plt\n",
    "import seaborn as sns\n",
    "from scipy import stats\n",
    "\n",
    "%matplotlib inline\n",
    "\n",
    "sns.set()  # This helps make our plots look nicer\n",
    "\n",
    "# These make our figures bigger\n",
    "plt.rcParams['figure.figsize'] = (6, 4.5)\n",
    "plt.rcParams['figure.dpi'] = 100"
   ]
  },
  {
   "cell_type": "markdown",
   "id": "0c3b9863",
   "metadata": {},
   "source": [
    "*You may find it helpful to review [Chapter 11](https://inferentialthinking.com/chapters/11/Testing_Hypotheses.html) and [Chapter 12](https://inferentialthinking.com/chapters/12/Comparing_Two_Samples.html) of the Data 8 textbook, which cover the basics of hypothesis testing.*\n",
    "\n",
    "Hypothesis testing is a specific kind of binary decision-making problem. Although the null hypothesis statistical test (NHST) framework has been criticized in recent years, it still provides a useful framework for making decisions from data. We'll explore these criticisms later, but to start, here's a quick refresher on how the process works:\n",
    "\n",
    "1. Determine the viewpoint that you want to test, and decide on:\n",
    "   * Null hypothesis: a chance model under which you can either simulate data or analytically compute the distribution of data\n",
    "   * Alternative hypothesis: viewpoint from the question\n",
    "   * Test statistic: quantity computed from your data to help you decide between the two hypotheses (in this book, we'll always use the convention that larger values of the test statistic should favor the alternative hypothesis, without loss of generality).\n",
    "2. Compute the value of the test statistic on your data.\n",
    "3. Compute the distribution of the test statistic under the null distribution, either by simulation or analytically.\n",
    "4. Compute a p-value: this is the probability, if the null hypothesis is true, of obtaining a test statistic that is equal to or larger than the observed value.\n",
    "5. Compare that p-value to some threshold: if the p-value is smaller than the threshold, our test statistic was very unlikely under the null, so our data support the alternative hypothesis. If the p-value is larger, then the data support the null hypothesis."
   ]
  },
  {
   "cell_type": "code",
   "execution_count": null,
   "id": "1e19fad2",
   "metadata": {
    "tags": [
     "remove-input"
    ]
   },
   "outputs": [],
   "source": [
    "# NO CODE\n",
    "\n",
    "# VIDEO: B-H Algorithm Overview and Example\n",
    "from IPython.display import YouTubeVideo\n",
    "YouTubeVideo('g8NepbdUOBU')"
   ]
  },
  {
   "cell_type": "markdown",
   "id": "ff539c0c",
   "metadata": {},
   "source": [
    "## Hypothesis testing and binary decision-making\n",
    "\n",
    "We can see that hypothesis testing (as we've defined it above) is a binary decision-making problem: we must decide between the null and alternative hypotheses, and we're assuming that there is some underlying true hypothesis. In this case, **reality** corresponds to which hypothesis is actually true, and we make our **decision** based on the p-values. \n",
    "\n",
    "In order to translate the p-values into binary decisions, we'll have to decide on some threshold(s) for doing so: we'll spend the rest of this chapter analyzing different ways to pick this threshold (or thresholds), and what assumptions are encoded in each one.\n",
    "\n",
    "Here are some important notes about conventions and vocabulary:\n",
    "* By convention, we'll always define the null hypothesis as 0, and the alternative hypothesis as 1.\n",
    "* We'll use the following terms interchangeably (in other words, they all mean the same thing):\n",
    "  * \"reject the null hypothesis\"\n",
    "  * \"make a discovery\"\n",
    "  * \"make a decision of 1\" ($D = 1$)"
   ]
  },
  {
   "cell_type": "markdown",
   "id": "cfa9fa1f",
   "metadata": {},
   "source": [
    "### Connecting $p$-values with false positive rate\n",
    "\n",
    "*You may find it helpful to review [Chapter 15](http://prob140.org/textbook/content/Chapter_15/01_Density_and_CDF.html) of the Data 140 textbook, which covers continuous random variables.*\n",
    "\n",
    "We'll work through a few exercises to help us understand the connection between $p$-values and the error rates described in the previous section. In the process, we'll get some practice reasoning about probabilities, and learn some important facts about the distribution of $p$-values under the null hypothesis.\n"
   ]
  },
  {
   "cell_type": "markdown",
   "id": "e48fdcd8",
   "metadata": {},
   "source": [
    "\n",
    "**Exercise 1**: Suppose the null hypothesis is true. In this case, what is the probability of obtaining a $p$-value less than 0.05?\n",
    "\n",
    "In order to answer this question, we'll look at the distribution of the test statistic under the null hypothesis, and use what we know about probabilities. If the null hypothesis is true, then the test statistic comes from some distribution that we can either simulate or analytically compute. We'll represent it visually as follows. Note that everything we're about to conclude is true even if the shape of the distribution is very different: we're only making it to facilitate easy visualization."
   ]
  },
  {
   "cell_type": "code",
   "execution_count": 13,
   "id": "58b0156f",
   "metadata": {
    "tags": [
     "remove-input"
    ]
   },
   "outputs": [
    {
     "data": {
      "image/png": "[encoded data removed]",
      "text/plain": [
       "<Figure size 500x200 with 1 Axes>"
      ]
     },
     "metadata": {},
     "output_type": "display_data"
    }
   ],
   "source": [
    "f, ax = plt.subplots(1, 1, figsize=(5, 2))\n",
    "x = np.linspace(-3.5, 3.5, 1000)\n",
    "y = stats.norm.pdf(x)\n",
    "ax.axis([-3.5, 3.5, -0.05, 0.41])\n",
    "ax.axis('off')\n",
    "ax.plot(x, y);"
   ]
  },
  {
   "cell_type": "markdown",
   "id": "6244c27d",
   "metadata": {},
   "source": [
    "What does it mean to obtain a $p$-value less than 0.05? This happens when our test statistic is large enough that it's unlikely according to the null distribution. Specifically, let's choose a particular value of the test statistic $a$, chosen such that the area under the curve to the right of $a$ is 0.05:"
   ]
  },
  {
   "cell_type": "code",
   "execution_count": 53,
   "id": "5ad02b4f",
   "metadata": {
    "tags": [
     "remove-input"
    ]
   },
   "outputs": [
    {
     "data": {
      "image/png": "[encoded data removed]",
      "text/plain": [
       "<Figure size 500x200 with 1 Axes>"
      ]
     },
     "metadata": {},
     "output_type": "display_data"
    }
   ],
   "source": [
    "f, ax = plt.subplots(1, 1, figsize=(5, 2))\n",
    "x = np.linspace(-3.5, 3.5, 1000)\n",
    "y = stats.norm.pdf(x)\n",
    "\n",
    "a = stats.norm.isf(0.05)\n",
    "\n",
    "ax.plot(x, y);\n",
    "ax.plot([a, a], [0, stats.norm.pdf(a)], 'k')\n",
    "x_gt_a = x[x > a]\n",
    "ax.fill_between(x_gt_a, 0, stats.norm.pdf(x_gt_a), color='orange');\n",
    "ax.annotate('$a$', [a - 0.12, -0.04])\n",
    "ax.axis([-3.5, 3.5, -0.05, 0.41])\n",
    "ax.axis('off');"
   ]
  },
  {
   "cell_type": "markdown",
   "id": "dc6f3bcc",
   "metadata": {},
   "source": [
    "\n",
    "If our test statistic is $a$, then the $p$-value is the probability of getting a value greater than or equal to $a$. That probability is the area under the curve to the right of $a$. By construction, that area is 0.05 (in other words, we set things up and chose $a$ to have an area of 0.05).\n",
    "\n",
    "So, a test statistic of $a$ results in a $p$-value of 0.05. We also know that any test statistic greater than $a$ will result in a $p$-value less than 0.05 (since there will be less area). Putting it all together, we can conclude that any test statistic greater than or equal to $a$ will result in a $p$-value less than or equal to 0.05.\n",
    "\n",
    "Now, what is the probability of obtaining a test statistic greater than or equal to $a$, if the null hypothesis is true? The answer is just the area under the null distribution to the right of $a$. By construction, this area is $0.05$. So, the probability of obtaining a $p$-value less than or equal to 0.05 is simply 0.05!\n",
    "\n",
    "To summarize what we did:\n",
    "1. Chose a test statistic value $a$ such that the area under the the null distribution to the right of $a$ is 0.05\n",
    "2. Determined that \"obtaining a $p$-value less than or equal to 0.05\" is exactly equivalent to \"obtaining a test statistic greater than or equal to $a$\"\n",
    "3. Computed that if the null is true, the probability of \"obtaining a test statistic greater than or equal to $a$\" is 0.05\n",
    "4. Found (by combining 2 and 3) that if the null is true, the probability of \"obtaining a $p$-value less than or equal to 0.05$ is 0.05.\n"
   ]
  },
  {
   "cell_type": "markdown",
   "id": "d388d380",
   "metadata": {},
   "source": [
    "**Exercise 3**: Suppose the null hypothesis is true. In this case, what is the probability of obtaining a $p$-value less than $\\gamma$ (assuming $0 < \\gamma \\leq 1$)? *Note this is a generalization of the previous question, using $\\gamma$ instead of the specific value $0.05$.*\n",
    "\n",
    "Throughout our solution to the last exercise, there was nothing special about the value of 0.05 that we used. All of our conclusions are still valid even if we choose any other threshold between 0 and 1. So, we can safely conclude that this probability is $\\gamma$.\n",
    "\n",
    "**Exercise 4**: Suppose our $p$-value threshold is $\\gamma$. What is the false positive rate for this test?\n",
    "\n",
    "We know the following things:\n",
    "* The false positive rate is $P(D=1 | R=0)$. \n",
    "* In hypothesis testing, this is the probability of rejecting the null hypothesis given that the null hypothesis is true. \n",
    "* We reject the null hypothesis whenever our $p$-value is below the threshold.\n",
    "* From the last exercise: if the null is true, then the probability of obtaining a $p$-value less than or equal to $\\gamma$ is $\\gamma$.\n",
    "\n",
    "Putting these facts together, the false positive rate is $\\gamma$: in other words, **the p-value threshold that we use for a test is the false positive rate for that test**.\n",
    "\n",
    "**Exercise 5**: If the null hypothesis is true, what is the distribution of the $p$-value? *Hint: the answer is a well-known distribution.*\n",
    "\n",
    "Let $p$ be the $p$-value (this is a random variable).\n",
    "\n",
    "In Exercise 3, we showed that if the null hypothesis is true, $P(p \\leq \\gamma) = \\gamma$. This is precisely the CDF of the random variable $p$! In other words, $F_p(p) = p$, as long as $0 \\leq p \\leq 1$. This is exactly the CDF of the uniform distribution! Therefore, we can conclude that if the null hypothesis is true, the $p$-value has a uniform distribution.\n"
   ]
  },
  {
   "cell_type": "code",
   "execution_count": 54,
   "id": "7a299506",
   "metadata": {
    "tags": [
     "remove-input"
    ]
   },
   "outputs": [
    {
     "data": {
      "text/html": [
       "\n",
       "        <iframe\n",
       "            width=\"400\"\n",
       "            height=\"300\"\n",
       "            src=\"https://www.youtube.com/embed/H0fXEIwFBNE\"\n",
       "            frameborder=\"0\"\n",
       "            allowfullscreen\n",
       "            \n",
       "        ></iframe>\n",
       "        "
      ],
      "text/plain": [
       "<IPython.lib.display.YouTubeVideo at 0x168fe6d50>"
      ]
     },
     "execution_count": 54,
     "metadata": {},
     "output_type": "execute_result"
    }
   ],
   "source": [
    "# NO CODE\n",
    "\n",
    "# VIDEO: B-H Algorithm Overview and Example\n",
    "from IPython.display import YouTubeVideo\n",
    "YouTubeVideo('H0fXEIwFBNE')"
   ]
  },
  {
   "cell_type": "markdown",
   "id": "c199ca09",
   "metadata": {},
   "source": [
    "\n",
    "### Proof of Uniformity of $p$-values under the null distribution\n",
    "\n",
    "*Coming soon*"
   ]
  },
  {
   "cell_type": "markdown",
   "id": "745c823e",
   "metadata": {},
   "source": []
  },
  {
   "cell_type": "markdown",
   "id": "20574a46",
   "metadata": {},
   "source": [
    "### Example: p-value thresholds for e-commerce website optimization\n",
    "\n",
    "This example will explore how our choice of $p$-value thresholds leads to tradeoffs between the different error rates we discussed in the previous section.\n",
    "\n",
    "Suppose we are exploring ways to make our e-commerce site more appealing to customers. We make 100 different changes to the website (different colors, fonts, page layouts, etc.), and for each one, we use an A/B test to see whether customers are more likely to make a purchase. We define the following null and alternative hypotheses:\n",
    "\n",
    "* Null hypothesis: the change to the website has no effect on whether or not customers make a purchase.\n",
    "* Alternative hypothesis: the change increases the chance that customers will make a purchase.\n",
    "\n",
    "For each change, we randomly assign half the users of our website to the old version, and half to the new version: because this is a randomized experiment, we can determine whether our change *causes* customers to purchase products more. Our test statistic is the difference between the percentage of people who made a purchase in the treatment group (new version of website) and the same percentage in the control group (old version of website). We simulate the test statistic under the null hypothesis, and obtain a p-value for each test. These p-values are in the following dataframe:"
   ]
  },
  {
   "cell_type": "code",
   "execution_count": 2,
   "id": "69714beb",
   "metadata": {
    "scrolled": true
   },
   "outputs": [
    {
     "data": {
      "text/html": [
       "<div>\n",
       "<style scoped>\n",
       "    .dataframe tbody tr th:only-of-type {\n",
       "        vertical-align: middle;\n",
       "    }\n",
       "\n",
       "    .dataframe tbody tr th {\n",
       "        vertical-align: top;\n",
       "    }\n",
       "\n",
       "    .dataframe thead th {\n",
       "        text-align: right;\n",
       "    }\n",
       "</style>\n",
       "<table border=\"1\" class=\"dataframe\">\n",
       "  <thead>\n",
       "    <tr style=\"text-align: right;\">\n",
       "      <th></th>\n",
       "      <th>pvalue</th>\n",
       "    </tr>\n",
       "  </thead>\n",
       "  <tbody>\n",
       "    <tr>\n",
       "      <th>0</th>\n",
       "      <td>0.040131</td>\n",
       "    </tr>\n",
       "    <tr>\n",
       "      <th>1</th>\n",
       "      <td>0.000436</td>\n",
       "    </tr>\n",
       "    <tr>\n",
       "      <th>2</th>\n",
       "      <td>0.251129</td>\n",
       "    </tr>\n",
       "  </tbody>\n",
       "</table>\n",
       "</div>"
      ],
      "text/plain": [
       "     pvalue\n",
       "0  0.040131\n",
       "1  0.000436\n",
       "2  0.251129"
      ]
     },
     "execution_count": 2,
     "metadata": {},
     "output_type": "execute_result"
    }
   ],
   "source": [
    "p_values = pd.read_csv('p_values.csv')\n",
    "p_values[['pvalue']].head(3)"
   ]
  },
  {
   "cell_type": "markdown",
   "id": "55ff9d0a",
   "metadata": {},
   "source": [
    "We can visualize the distribution of them using a strip plot, which gives us a scatterplot-like view. Each point represents one test, the x-axis represents the p-value, and the y-axis doesn't have any meaning (it just helps spread out the points so they're easier to see):"
   ]
  },
  {
   "cell_type": "code",
   "execution_count": 8,
   "id": "b3a4177f",
   "metadata": {},
   "outputs": [
    {
     "data": {
      "image/png": "[encoded data removed]",
      "text/plain": [
       "<Figure size 600x450 with 1 Axes>"
      ]
     },
     "metadata": {},
     "output_type": "display_data"
    }
   ],
   "source": [
    "sns.stripplot(\n",
    "    data=p_values, x='pvalue',\n",
    "    alpha = 0.8, orient = \"h\",\n",
    ")\n",
    "plt.title(\"P-values (as we'd actually see them, without labels)\");"
   ]
  },
  {
   "cell_type": "markdown",
   "id": "fce21347",
   "metadata": {},
   "source": [
    "Normally, we wouldn't know for certain whether or not each change actually affects customer behavior. Instead, we must decide from the p-values. In particular, our job is to decide, based on the p-values, for which tests the data favor the null hypothesis, and for which tests the data favor the alternative hypothesis. From the definition of the p-value, we know that smaller p-values should favor the alternative hypothesis, while larger p-values should favor the null hypothesis.\n",
    "\n",
    "What if we did magically know the true effect of each change? In this case, we could use that known truth to analyze our decision-making process and evaluate how well we do. \n",
    "\n",
    "This is an approach we'll use many times throughout this book: when creating, designing, and evaluating our algorithms, we'll suppose that we know the \"true\" values of reality, so that we can provide a quantitative analysis. Then, when we go apply those algorithms in the real world (where we don't know reality), we can be confident in how well we're doing.\n",
    "\n",
    "The column `is_alternative` contains the known true effects for each of these 100 A/B tests:"
   ]
  },
  {
   "cell_type": "code",
   "execution_count": 4,
   "id": "11ce5a7c",
   "metadata": {},
   "outputs": [
    {
     "data": {
      "text/html": [
       "<div>\n",
       "<style scoped>\n",
       "    .dataframe tbody tr th:only-of-type {\n",
       "        vertical-align: middle;\n",
       "    }\n",
       "\n",
       "    .dataframe tbody tr th {\n",
       "        vertical-align: top;\n",
       "    }\n",
       "\n",
       "    .dataframe thead th {\n",
       "        text-align: right;\n",
       "    }\n",
       "</style>\n",
       "<table border=\"1\" class=\"dataframe\">\n",
       "  <thead>\n",
       "    <tr style=\"text-align: right;\">\n",
       "      <th></th>\n",
       "      <th>pvalue</th>\n",
       "      <th>is_alternative</th>\n",
       "    </tr>\n",
       "  </thead>\n",
       "  <tbody>\n",
       "    <tr>\n",
       "      <th>0</th>\n",
       "      <td>0.040131</td>\n",
       "      <td>0</td>\n",
       "    </tr>\n",
       "    <tr>\n",
       "      <th>1</th>\n",
       "      <td>0.000436</td>\n",
       "      <td>1</td>\n",
       "    </tr>\n",
       "    <tr>\n",
       "      <th>2</th>\n",
       "      <td>0.251129</td>\n",
       "      <td>0</td>\n",
       "    </tr>\n",
       "  </tbody>\n",
       "</table>\n",
       "</div>"
      ],
      "text/plain": [
       "     pvalue  is_alternative\n",
       "0  0.040131               0\n",
       "1  0.000436               1\n",
       "2  0.251129               0"
      ]
     },
     "execution_count": 4,
     "metadata": {},
     "output_type": "execute_result"
    }
   ],
   "source": [
    "p_values.head(3)"
   ]
  },
  {
   "cell_type": "markdown",
   "id": "cc00a39a",
   "metadata": {},
   "source": [
    "We can visualize the p-values again, this time grouped by whether or not the website change actually affected customers' purchase behavior (i.e., reality). The top row contains the points where the null is true, and the bottom row contains the points where the alternative is true."
   ]
  },
  {
   "cell_type": "code",
   "execution_count": 5,
   "id": "9fa26311",
   "metadata": {},
   "outputs": [
    {
     "name": "stdout",
     "output_type": "stream",
     "text": [
      "(-0.049319194537530316, 1.035869189459966, 1.5, -0.5)\n"
     ]
    },
    {
     "data": {
      "image/png": "[encoded data removed]",
      "text/plain": [
       "<Figure size 600x450 with 1 Axes>"
      ]
     },
     "metadata": {},
     "output_type": "display_data"
    }
   ],
   "source": [
    "sns.stripplot(\n",
    "    data=p_values, x='pvalue', y='is_alternative', \n",
    "    alpha = 0.8, order = [0, 1], orient = \"h\",\n",
    ")\n",
    "plt.title('P-values, with ground truth labels');\n",
    "print(plt.axis())"
   ]
  },
  {
   "cell_type": "markdown",
   "id": "22f1c5ef",
   "metadata": {},
   "source": [
    "We can now see that any particular threshold we choose will lead us to make some correct and some incorrect decisions. For example, suppose we use a p-value threshold of 0.1:"
   ]
  },
  {
   "cell_type": "code",
   "execution_count": 6,
   "id": "4cccf4ed",
   "metadata": {},
   "outputs": [
    {
     "data": {
      "image/png": "[encoded data removed]",
      "text/plain": [
       "<Figure size 600x450 with 1 Axes>"
      ]
     },
     "metadata": {},
     "output_type": "display_data"
    }
   ],
   "source": [
    "sns.stripplot(\n",
    "    data=p_values, x='pvalue', y='is_alternative', \n",
    "    alpha = 0.8, order = [0, 1], orient = \"h\",\n",
    ")\n",
    "plt.vlines(0.1, -0.5, 1.5, color='black')\n",
    "plt.axis([-0.05, 1.05, 1.5, -0.5])\n",
    "plt.title('P-values, with ground truth labels');"
   ]
  },
  {
   "cell_type": "markdown",
   "id": "d675e821",
   "metadata": {},
   "source": [
    "For p-values smaller than our threshold (to the right of the line), our decision is 1. So:\n",
    "* For all the orange (bottom) points to the left of the line, we make a correct decision: in this case, reality and our decision are both 1 (alternative), so these are *true positives*. \n",
    "* For all the orange (bottom) points to the right of the line, we make an incorrect decision: in this case, reality is 1 (alternative), but our decision is 0 (null). So, these are *false negatives*.\n",
    "* For all the blue (top) points to the left of the line, we make an incorrect decision: in this case, reality is 0 (null), but our decision is 1 (alternative). So, these are *false positives*.\n",
    "* For all the blue (top) points to the right of the line, we make a correct decision: in this case, reality and our decision are both 0 (null), so these are *true negatives*. \n",
    "\n",
    "Our goal should be to make as many true negatives and true positives as possible, while making as few false positives and false negatives as possible. But we can see from the graph that there is a tradeoff: as we make fewer false positives, we must necessarily make more false negatives. For example, suppose we wanted to have no false negatives at all. That means we want all the p-values from tests where the alternative is true to be below our threshold (all orange points to the left of the line).Let's see what happens if we choose such a threshold of 0.42:"
   ]
  },
  {
   "cell_type": "code",
   "execution_count": 7,
   "id": "f6c82883",
   "metadata": {},
   "outputs": [
    {
     "data": {
      "image/png": "[encoded data removed]",
      "text/plain": [
       "<Figure size 600x450 with 1 Axes>"
      ]
     },
     "metadata": {},
     "output_type": "display_data"
    }
   ],
   "source": [
    "sns.stripplot(\n",
    "    data=p_values, x='pvalue', y='is_alternative', \n",
    "    alpha = 0.8, order = [0, 1], orient = \"h\",\n",
    ")\n",
    "plt.vlines(0.42, -0.5, 1.5, color='black')\n",
    "plt.axis([-0.05, 1.05, 1.5, -0.5])\n",
    "plt.title('P-values, with ground truth labels');"
   ]
  },
  {
   "cell_type": "markdown",
   "id": "30ae7a97",
   "metadata": {},
   "source": [
    "Even though we've dropped our false negative rate dramatically, we've unfortunately increased our false positive rate: there are now many more tests where the null is true but the p-value is below our threshold (blue points to the left of the line)."
   ]
  },
  {
   "cell_type": "markdown",
   "id": "bb3e26ad",
   "metadata": {},
   "source": [
    "## From p-values to decisions\n",
    "\n",
    "We've seen above that in order to make a binary decision from a single p-value, we must use some threshold. We'll see several different ways to choose such a threshold:\n",
    "\n",
    "* Classical null hypothesis significance testing (NHST): here, we choose a threshold based on our desired false positive rate. For example, the traditional (arbitrary) threshold of 0.05 corresponds to a 5% chance of making a false positive with each hypothesis test we conduct. In this setting, our null hypothesis will usually be clearly specified, but we usually use \"vague\" alternative hypotheses such as 'there is no difference between the two groups'. This means that we can precisely analyze what happens when the null is true ($R=0$), and reason about the false positive rate and true negative rate. However, because we don't have a precisely defined alternative hypothesis, we typically don't reason about the true positive rate and false negative rate (i.e., the rates corresponding to $R=1$).\n",
    "* In the Neyman-Pearson framework, we choose a more precise alternative hypothesis, and reason about the true positive rate. We'll discuss this briefly below.\n",
    "* When making multiple tests, we'll need to choose thresholds that take into account error rates involving all the tests we conduct. We'll examine these error rates and why they're important in the next section."
   ]
  },
  {
   "cell_type": "code",
   "execution_count": 54,
   "id": "5ade5c02",
   "metadata": {
    "tags": [
     "remove-input"
    ]
   },
   "outputs": [
    {
     "data": {
      "text/html": [
       "\n",
       "        <iframe\n",
       "            width=\"400\"\n",
       "            height=\"300\"\n",
       "            src=\"https://www.youtube.com/embed/H0fXEIwFBNE\"\n",
       "            frameborder=\"0\"\n",
       "            allowfullscreen\n",
       "            \n",
       "        ></iframe>\n",
       "        "
      ],
      "text/plain": [
       "<IPython.lib.display.YouTubeVideo at 0x168fe6d50>"
      ]
     },
     "execution_count": 54,
     "metadata": {},
     "output_type": "execute_result"
    }
   ],
   "source": [
    "# NO CODE\n",
    "\n",
    "# VIDEO: B-H Algorithm Overview and Example\n",
    "from IPython.display import YouTubeVideo\n",
    "YouTubeVideo('WIrueFDjw64')"
   ]
  },
  {
   "cell_type": "markdown",
   "id": "7fa194c0",
   "metadata": {},
   "source": [
    "### Neyman-Pearson\n",
    "\n",
    "*Coming soon*"
   ]
  },
  {
   "cell_type": "code",
   "execution_count": 54,
   "id": "105cb19f",
   "metadata": {
    "tags": [
     "remove-input"
    ]
   },
   "outputs": [
    {
     "data": {
      "text/html": [
       "\n",
       "        <iframe\n",
       "            width=\"400\"\n",
       "            height=\"300\"\n",
       "            src=\"https://www.youtube.com/embed/H0fXEIwFBNE\"\n",
       "            frameborder=\"0\"\n",
       "            allowfullscreen\n",
       "            \n",
       "        ></iframe>\n",
       "        "
      ],
      "text/plain": [
       "<IPython.lib.display.YouTubeVideo at 0x168fe6d50>"
      ]
     },
     "execution_count": 54,
     "metadata": {},
     "output_type": "execute_result"
    }
   ],
   "source": [
    "# NO CODE\n",
    "\n",
    "# VIDEO: B-H Algorithm Overview and Example\n",
    "from IPython.display import YouTubeVideo\n",
    "YouTubeVideo('8vOzVcqQy5Y')"
   ]
  }
 ],
 "metadata": {
  "celltoolbar": "Edit Metadata",
  "kernelspec": {
   "display_name": "Python 3 (ipykernel)",
   "language": "python",
   "name": "python3"
  },
  "language_info": {
   "codemirror_mode": {
    "name": "ipython",
    "version": 3
   },
   "file_extension": ".py",
   "mimetype": "text/x-python",
   "name": "python",
   "nbconvert_exporter": "python",
   "pygments_lexer": "ipython3",
   "version": "3.11.5"
  }
 },
 "nbformat": 4,
 "nbformat_minor": 5
}
