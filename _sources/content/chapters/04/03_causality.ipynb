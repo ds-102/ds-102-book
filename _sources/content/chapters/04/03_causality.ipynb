{
 "cells": [
  {
   "cell_type": "markdown",
   "id": "accepting-cancellation",
   "metadata": {},
   "source": [
    "# Causality and Potential Outcomes"
   ]
  },
  {
   "cell_type": "markdown",
   "id": "affiliated-allergy",
   "metadata": {},
   "source": [
    "Now that we understand association and correlation (and their limitations), we are ready to begin our journey into causal inference. We'll start with a discussion of the concept of causality: what it means, and why it matters. Then, we'll define a specific way of thinking about causality, using counterfactual reasoning, that will guide the remainder of our study of causal inference. "
   ]
  },
  {
   "cell_type": "markdown",
   "id": "announced-audit",
   "metadata": {},
   "source": [
    "## What is causality? (Optional)"
   ]
  },
  {
   "cell_type": "markdown",
   "id": "worth-belgium",
   "metadata": {},
   "source": [
    "To understand causality, let's explore the meaning of the word \"cause\". Consider the following sentences: all of them use words like \"causes\" or \"because\", and they are all valid sentences in modern English, but the meaning of \"cause\" is slightly different in each one:\n",
    "\n",
    "1. The soccer ball moved because I kicked it.\n",
    "2. The couple broke up because one of them moved to another country.\n",
    "3. I am who I am today because of my parents.\n",
    "4. Gravity causes objects to fall to the Earth.\n",
    "5. Down Syndrome is caused by having 3 copies of chromosome 21.\n",
    "6. Humans burning fossil fuels is causing climate change.\n",
    "7. Barbarian invasions caused the Roman Empire to fall.\n",
    "8. Smoking causes lung cancer.\n",
    "\n",
    "Most modern understanding of the word \"cause\" aligns with what the Greek philosopher Aristotle called \"agent\" or \"efficient\" cause: where one agent or object brings about change in another. Taking a closer look at the examples above, if we limit ourselves to this understanding, we should eliminate sentences 3 and 4. In sentence 3, the thing being \"caused\" is \"who I am today\", which doesn't fall under the idea of a \"change\". Similarly, in sentence 4, the thing doing the causing is \"gravity\", which isn't a specific thing or object, but rather a conceptual physical theory. Note that this is a subjective determination!\n",
    "\n",
    "One way to think about cause is to divide the statements above into *deterministic* and *probabilistic* cause. What do these mean? If A is a deterministic cause of B, then whenever A happens, B must happen. In contrast, if A is a probabilistic cause of B, then whenever A happens, the probability of B increases. Going back to our examples above, sentences 1, 5, and 6 are all statements of deterministic causality. This doesn't mean that the causality in the remaining sentences (2, 7, and 8) isn't real! For example, consider statement 7: most historians believe that the Roman Empire was in a prolonged state of decline before the barbarian invasions. However, those invasions still had a real, tangible impact on the empire's fall.\n",
    "\n",
    "There are many other ways of thinking about causality: for example, we can divide the statements above into instance causality and class causality; single cause and multiple cause; simple action and compound action; and much more."
   ]
  },
  {
   "cell_type": "markdown",
   "id": "971cacc5",
   "metadata": {},
   "source": [
    "## Why does causality matter?\n",
    "\n",
    "*Coming soon*"
   ]
  },
  {
   "cell_type": "markdown",
   "id": "c00ca65d",
   "metadata": {},
   "source": [
    "## Why is causality hard?\n",
    "\n",
    "*Text coming soon: see video*"
   ]
  },
  {
   "cell_type": "code",
   "execution_count": 2,
   "id": "1affd6b0",
   "metadata": {
    "tags": [
     "remove-input"
    ]
   },
   "outputs": [
    {
     "data": {
      "text/html": [
       "\n",
       "        <iframe\n",
       "            width=\"400\"\n",
       "            height=\"300\"\n",
       "            src=\"https://www.youtube.com/embed/UlI6hBz59oo\"\n",
       "            frameborder=\"0\"\n",
       "            allowfullscreen\n",
       "            \n",
       "        ></iframe>\n",
       "        "
      ],
      "text/plain": [
       "<IPython.lib.display.YouTubeVideo at 0x108ae93d0>"
      ]
     },
     "execution_count": 2,
     "metadata": {},
     "output_type": "execute_result"
    }
   ],
   "source": [
    "from IPython.display import YouTubeVideo\n",
    "YouTubeVideo(\"UlI6hBz59oo\")"
   ]
  },
  {
   "cell_type": "markdown",
   "id": "finnish-grenada",
   "metadata": {},
   "source": [
    "## Potential outcomes and counterfactuals"
   ]
  },
  {
   "cell_type": "markdown",
   "id": "celtic-recipe",
   "metadata": {},
   "source": [
    "*Some of this material is covered in [Section 12.2 of the Data 8 textbook](https://inferentialthinking.com/chapters/12/2/Causality.html#potential-outcomes) from a more conceptual lens.*"
   ]
  },
  {
   "cell_type": "markdown",
   "id": "crucial-connectivity",
   "metadata": {},
   "source": [
    "Suppose you have a fever, and you decide to take an aspirin. If your fever went away an hour later, how can we know whether the aspirin *caused* your fever to go down? To help us answer this question, consider the following thought experiment: imagine yourself in two parallel universes. In Universe 1, you took the aspirin. In Universe 0, you didn't take the aspirin. If your fever improved by the same amount in both universes, then that seems like strong evidence that the aspirin did *not* cause your fever to go down. On the other hand, if your fever went down in Universe 1 and not in Universe 0, then that seems like strong evidence that the aspirin *did* cause your fever to go down.\n",
    "\n",
    "Notationally, we'll use $Y(1)$ to denote the outcome (in this case, your temperature) in Universe 1, and $Y(0)$ for the outcome in Universe 0 (*Note: You may also see people use superscripts, e.g., $Y^0$ and $Y^1$, but in this class we'll consistently use $Y(0)$ and $Y(1)$)*. In any real-world data, we only get to observe one of these: in the example above, if you decided to take the aspirin, then you would only ever observe $Y(1)$. For this reason, the other universe is often called the **counterfactual** universe. This brings us to the **fundamental problem of causal inference**: that we can never observe both $Y(1)$ and $Y(0)$ for the same individual."
   ]
  },
  {
   "cell_type": "code",
   "execution_count": 2,
   "id": "e402446d",
   "metadata": {
    "tags": [
     "remove-input"
    ]
   },
   "outputs": [
    {
     "data": {
      "text/html": [
       "\n",
       "        <iframe\n",
       "            width=\"400\"\n",
       "            height=\"300\"\n",
       "            src=\"https://www.youtube.com/embed/UlI6hBz59oo\"\n",
       "            frameborder=\"0\"\n",
       "            allowfullscreen\n",
       "            \n",
       "        ></iframe>\n",
       "        "
      ],
      "text/plain": [
       "<IPython.lib.display.YouTubeVideo at 0x108ae93d0>"
      ]
     },
     "execution_count": 2,
     "metadata": {},
     "output_type": "execute_result"
    }
   ],
   "source": [
    "from IPython.display import YouTubeVideo\n",
    "YouTubeVideo(\"G1VlgMGMP4c\")"
   ]
  },
  {
   "cell_type": "markdown",
   "id": "sacred-driver",
   "metadata": {},
   "source": [
    "### Notation\n",
    "\n",
    "Suppose we're interested in whether a particular treatment causes a particular outcome. We'll mostly limit ourselves to the case where the treatment is  binary. We're interested in whether applying the treatment to a particular *unit* causes a change in the outcome. Here, the word *unit* refers to the individuals in our study. They could be individual people, groups of people, or even inanimate objects (e.g., in a study on whether fertilizer causes increased crop yields, the units might be fields, or they they might be individual plants). We'll use the following notation:\n",
    "\n",
    "* $Y_i(0)$ and $Y_i(1)$ are the potential outcomes for unit $i$: they're the outcomes for the universe where unit $i$ wasn't/was treated, respectively.\n",
    "* $Z_i$ tells us whether unit $i$ was treated or not. \n",
    "  * For example, if $Z_7 = 1$, that means unit 7 was treated, and we only got to observe $Y_7(1)$ (and did not get to observe $Y_7(0)$).\n",
    "* $Y_{i, obs}$ is shorthand for \"the outcome in the universe that we actually observed\".\n",
    "  * In other words, $Y_{i, obs} = Y_i(Z_i)$. \n",
    "  * In cases where $Z_i$ is binary, we can write $Y_{i,obs} = Z_i \\cdot Y_i(1) + (1-Z_i) \\cdot Y_i(0)$.\n",
    "  * We'll sometimes use the notation $Y_i$ as shorthand for $Y_{i,obs}$. \n",
    "  * We'll also use the notation $Y_i(\\cdot)$ as shorthand for the pair $\\big(Y_i(0), Y_i(1)\\big)$.\n",
    "\n",
    "\n",
    "We can visualize the potential outcomes in a table:\n",
    "\n",
    "| Unit ($i$) | Outcome if not treated | Outcome if treated | Treated or not? |\n",
    "| ---  |         ---            |       ---          |      ---        |\n",
    "|  1   |      $Y_1(0)$          |      $Y_1(1)$      |     $Z_1$       |\n",
    "|  2   |      $Y_2(0)$          |      $Y_2(1)$      |     $Z_2$       |\n",
    "|  3   |      $Y_3(0)$          |      $Y_3(1)$      |     $Z_3$       |\n",
    "|  4   |      $Y_4(0)$          |      $Y_4(1)$      |     $Z_4$       |\n",
    "|  5   |      $Y_5(0)$          |      $Y_5(1)$      |     $Z_5$       |\n",
    "\n",
    "In reality, we never get to observe the entire table. Instead, the data we observe look more like:\n",
    "\n",
    "| Unit | Outcome if not treated | Outcome if treated | Treated or not? |\n",
    "| ---  |         ---            |       ---          |      ---        |\n",
    "|  1   |      ?          |      $Y_1(1)$      |     $Z_1=1$       |\n",
    "|  2   |      $Y_2(0)$          |      ?      |     $Z_2=0$       |\n",
    "|  3   |      $Y_3(0)$          |      ?      |     $Z_3=0$       |\n",
    "|  4   |      ?          |      $Y_4(1)$      |     $Z_4=1$       |\n",
    "|  5   |      $Y_5(0)$          |      ?      |     $Z_5=0$       |\n",
    "\n",
    "It's important to keep the right intuition in mind for $Z_i$: this variable does not represent the treatment itself; instead, it represents the decision on whether or not to treat unit $i$. The effect of the treatment itself is captured in the difference between $Y_i(0)$ and $Y_i(1)$. Let's look at two examples that make this distinction clearer. These examples also preview some of the insights we'll develop further in the next two sections.\n",
    "\n",
    "* In a randomized controlled trial, we randomly assign units to the treatment and control groups. Because the trial is randomized, the treatment/control assignment $Z_i$ is independent of the potential outcomes $(Y_i(0), Y_i(1))$. This doesn't mean that the treatment is independent of the outcome we observe! (Remeber, the observed outcome is $Y_{i,obs} = Y_i(Z_i)$) It only means that in a randomized controlled trial, the *decision* on whether or not to treat is independent of the potential outcomes. We'll see in this next section how this fact can be very useful. \n",
    "\n",
    "* Suppose we look at an observational study measuring the effect of yacht ownership on attitudes toward taxation. Here, $Z_i = 1 $ if respondent $i$ owns a yacht; $Y_i(0)$ represents respondent $i$'s attitude toward taxation if they *did not* own a yacht; and $Y_i(0)$ represents respondent $i$'s attitude toward taxation if they *did* own a yacht. In this case, we can intuitively see that if someone is wealthy enough to own a yacht, regardless of whether they do or not (i.e., whether they're in Universe 1 or Universe 0), they will probably prefer lower taxes."
   ]
  },
  {
   "cell_type": "code",
   "execution_count": 2,
   "id": "795f612f",
   "metadata": {
    "scrolled": true,
    "tags": [
     "remove-input"
    ]
   },
   "outputs": [
    {
     "data": {
      "text/html": [
       "\n",
       "        <iframe\n",
       "            width=\"400\"\n",
       "            height=\"300\"\n",
       "            src=\"https://www.youtube.com/embed/UlI6hBz59oo\"\n",
       "            frameborder=\"0\"\n",
       "            allowfullscreen\n",
       "            \n",
       "        ></iframe>\n",
       "        "
      ],
      "text/plain": [
       "<IPython.lib.display.YouTubeVideo at 0x108ae93d0>"
      ]
     },
     "execution_count": 2,
     "metadata": {},
     "output_type": "execute_result"
    }
   ],
   "source": [
    "from IPython.display import YouTubeVideo\n",
    "YouTubeVideo(\"k7w5D_ExSoE\")"
   ]
  },
  {
   "cell_type": "code",
   "execution_count": 2,
   "id": "90d38f7d",
   "metadata": {
    "tags": [
     "remove-input"
    ]
   },
   "outputs": [
    {
     "data": {
      "text/html": [
       "\n",
       "        <iframe\n",
       "            width=\"400\"\n",
       "            height=\"300\"\n",
       "            src=\"https://www.youtube.com/embed/UlI6hBz59oo\"\n",
       "            frameborder=\"0\"\n",
       "            allowfullscreen\n",
       "            \n",
       "        ></iframe>\n",
       "        "
      ],
      "text/plain": [
       "<IPython.lib.display.YouTubeVideo at 0x108ae93d0>"
      ]
     },
     "execution_count": 2,
     "metadata": {},
     "output_type": "execute_result"
    }
   ],
   "source": [
    "from IPython.display import YouTubeVideo\n",
    "YouTubeVideo(\"kyhj08m8oJg\")"
   ]
  },
  {
   "cell_type": "markdown",
   "id": "daily-definition",
   "metadata": {},
   "source": [
    "## Average treatment effect"
   ]
  },
  {
   "cell_type": "markdown",
   "id": "settled-longer",
   "metadata": {},
   "source": [
    "We've already seen that we can never know the difference $Y_i(1) - Y_i(0)$ for an individual unit $i$, since we only get to observe one of the two. So, what we'll do instead is look at the **Average Treatment Effect (ATE)**, which we'll denote with the greek letter tau $\\tau$:\n",
    "\n",
    "$$\\text{ATE} = \\tau = E[Y_i(1) - Y_i(0)]$$\n",
    "\n",
    "Remember that the $Y_i(\\cdot)$s are i.i.d. random variables, so the expectation here is over the randomness in that distribution. We'll often drop the $i$ in the notation for convenience.\n",
    "\n",
    "If we knew all the data in the table above (including the counterfactual outcomes, marked with \"?\"), then we could take the difference in means of the two columns to find the ATE. But if we take the average of only the values we actually see, then we're implicitly conditioning on the the treatment decision. In other words, if we computed the average of the second column (\"Outcome if not treated\"), it would be $E[Y(0) | Z = 0]$. How do we relate this conditional expectation to the unconditional one in the ATE? We've already seen how to do this: the tower property (also known as iterated expectation):\n",
    "\n",
    "$$\n",
    "\\begin{align}\n",
    "    \\tau \n",
    "        &= E[Y(1) - Y(0) | Z = 1]P(Z=1) + E[Y(1) - Y(0)|Z=0]P(Z=0) \\\\\n",
    "        &= \\Big(\\,\\overbrace{E[Y(1) | Z = 1]}^{\\text{observed}} - \\overbrace{E[Y(0) | Z = 1]}^{\\text{counterfactual}}\\,\\Big)P(Z=1) \\, + \\\\\n",
    "        &  \\quad\\,\\Big(\\,\\underbrace{E[Y(1)|Z=0]}_{\\text{counterfactual}} - \\underbrace{E[Y(0)|Z=0]}_{\\text{observed}}\\,\\Big)P(Z=0)\n",
    "\\end{align}\n",
    "$$\n",
    "\n",
    "Taking a closer look at these four terms, we see that two of them (the first and the last) correspond to data that we got to observe. Unfortunately, the middle two terms are counterfactual terms: if $Z_i=1$, then we don't get to observe $Y_i(0)$! \n",
    "\n",
    "In the next few sections, we'll see ways of working around this problem."
   ]
  },
  {
   "cell_type": "code",
   "execution_count": 1,
   "id": "36308c89",
   "metadata": {
    "tags": [
     "remove-input"
    ]
   },
   "outputs": [
    {
     "data": {
      "text/html": [
       "\n",
       "        <iframe\n",
       "            width=\"400\"\n",
       "            height=\"300\"\n",
       "            src=\"https://www.youtube.com/embed/qmd3pnXvfao\"\n",
       "            frameborder=\"0\"\n",
       "            allowfullscreen\n",
       "            \n",
       "        ></iframe>\n",
       "        "
      ],
      "text/plain": [
       "<IPython.lib.display.YouTubeVideo at 0x107d23ed0>"
      ]
     },
     "execution_count": 1,
     "metadata": {},
     "output_type": "execute_result"
    }
   ],
   "source": [
    "from IPython.display import YouTubeVideo\n",
    "YouTubeVideo(\"qmd3pnXvfao\")"
   ]
  },
  {
   "cell_type": "markdown",
   "id": "active-indian",
   "metadata": {},
   "source": [
    "## Outcomes: fixed or random?"
   ]
  },
  {
   "cell_type": "markdown",
   "id": "latter-medicine",
   "metadata": {},
   "source": [
    "There are two different schools of thought around how to model the potential outcomes $Y_i(0)$ and $Y_i(1)$:\n",
    "\n",
    "1. In the **fixed-sample approach**, we assume that the potential outcomes $Y_i(0)$ and $Y_i(1)$ are fixed, and only $Z_i$ is random. We observe one outcome $Y_{i,obs} = Y_i(Z_i)$, which is fixed and known, and the other is fixed and unknown.\n",
    "\n",
    "2. In the **superpopulation model**, we assume that the tuples $(Z_i, Y_i(0), Y_i(1))$ are random and i.i.d.: in other words, there's some joint distribution over treatment and potential outcomes, and each unit's data (treament decision and potential outcomes) are independent of each other unit's data.\n",
    "\n",
    "Historically, the fixed-sample approach was developed to analyze randomized experiments, and is still an active area of research. The superpopulation model is newer, and has been expanded in the last 40 years. It can be applied to both randomized experiments and observational studies.\n",
    "\n",
    "In this book, we'll focus on the superpopulation model."
   ]
  },
  {
   "cell_type": "markdown",
   "id": "scheduled-mexican",
   "metadata": {},
   "source": [
    "## Stable Unit Treatment Value Assumption (SUTVA)"
   ]
  },
  {
   "cell_type": "markdown",
   "id": "independent-boring",
   "metadata": {},
   "source": [
    "*Coming soon*"
   ]
  }
 ],
 "metadata": {
  "celltoolbar": "Edit Metadata",
  "kernelspec": {
   "display_name": "Python 3 (ipykernel)",
   "language": "python",
   "name": "python3"
  },
  "language_info": {
   "codemirror_mode": {
    "name": "ipython",
    "version": 3
   },
   "file_extension": ".py",
   "mimetype": "text/x-python",
   "name": "python",
   "nbconvert_exporter": "python",
   "pygments_lexer": "ipython3",
   "version": "3.11.5"
  }
 },
 "nbformat": 4,
 "nbformat_minor": 5
}
