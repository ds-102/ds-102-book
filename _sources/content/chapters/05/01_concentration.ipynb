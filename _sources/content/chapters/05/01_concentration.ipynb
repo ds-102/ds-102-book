{
 "cells": [
  {
   "cell_type": "markdown",
   "metadata": {},
   "source": [
    "# Tail Bounds and Concentration Inequalities"
   ]
  },
  {
   "cell_type": "code",
   "execution_count": 1,
   "metadata": {},
   "outputs": [],
   "source": [
    "import numpy as np\n",
    "from scipy import stats\n",
    "from IPython.display import YouTubeVideo\n",
    "\n",
    "import matplotlib\n",
    "%matplotlib inline\n",
    "import matplotlib.pyplot as plt\n",
    "import seaborn as sns\n",
    "\n",
    "sns.set()"
   ]
  },
  {
   "cell_type": "markdown",
   "metadata": {},
   "source": [
    "*Throughout this section, we'll need to be a bit more precise, so we'll use uppercase letters to represent random variables, and lowercase letters to represent the values they take on.*"
   ]
  },
  {
   "cell_type": "markdown",
   "metadata": {},
   "source": [
    "*You may find it helpful to review Sections [12.3](https://data140.org/textbook/content/Chapter_12/03_Bounds.html) and [19.4](https://data140.org/textbook/content/Chapter_19/04_Chernoff_Bound.html) of the Data 140 textbook.*"
   ]
  },
  {
   "cell_type": "markdown",
   "metadata": {},
   "source": [
    "## Motivation and Introduction\n",
    "\n",
    "### What is a Concentration Inequality?"
   ]
  },
  {
   "cell_type": "markdown",
   "metadata": {},
   "source": [
    "Concentration inequalities provide a way to quantify how likely a random variable is to be in the **tail** of its distribution (that is, the parts of the distribution on the far ends, away from the mean). We often will write these inequalities involving the distance between a random variable $X$ and its mean $E[X]$. For example, consider the following inequality:\n",
    "\n",
    "$$P(|X-E[X]|\\geq t) \\leq \\epsilon$$\n",
    "\n",
    "This looks at the distance between random variable $X$ and its mean $E[x]$, and says that the probability of that distance being large (specifically, larger than some threshold $t$) is small (specifically, smaller than some value $\\delta$).\n",
    "\n",
    "Such inequalities are useful in understanding the behavior of arbitrary random variables, as well as algorithms that use random variables. For example, consider a sample of i.i.d. random variables $X_1, \\ldots, X_n$, and their sample mean:\n",
    "\n",
    "$$\n",
    "Y = \\frac{1}{n} \\sum_i X_i \n",
    "$$\n",
    "\n",
    "If we're using $Y$ to estimate the mean of $X_i$, then we can already guarantee that the average value of $Y$ will be the correct answer: $E[Y] = E\\left[(1/n) \\sum_i X_i\\right] = E[X_i]$. But this statement doesn't tell us anything about our chance of being far off from the correct answer. Is it possible that $Y$ could be very far away from $E[X_i]$? How likely is such a thing to happen?\n",
    "\n",
    "Concentration inequalities provide the answers to such questions: if we can guarantee that\n",
    "\n",
    "$$\n",
    "P(|Y - E[X_i]| \\geq t) \\leq \\epsilon,\n",
    "$$\n",
    "\n",
    "then we can have more confidence in our result. Suppose that the above statement holds for $t=1$ and $\\epsilon=0.01$. Then we can clearly state \"$Y$ is very likely to be within $1$ of the true mean $E[X_i]$: the probability that it's further away is less than $1\\%$.\"\n",
    "\n",
    "If the $X_i$ are drawn from a well-known distribution such as the Gaussian, binomial, Poisson, etc., then we can compute such probabilities exactly, and we have no need for a concentration inequality. These inequalities are useful when we have less information about a random variable, and we want to make strong statements that hold **regardless of the specific distribution**. "
   ]
  },
  {
   "cell_type": "code",
   "execution_count": 2,
   "metadata": {
    "tags": [
     "remove-input"
    ]
   },
   "outputs": [
    {
     "data": {
      "text/html": [
       "\n",
       "        <iframe\n",
       "            width=\"400\"\n",
       "            height=\"300\"\n",
       "            src=\"https://www.youtube.com/embed/KiD4SHKpVho\"\n",
       "            frameborder=\"0\"\n",
       "            allowfullscreen\n",
       "            \n",
       "        ></iframe>\n",
       "        "
      ],
      "text/plain": [
       "<IPython.lib.display.YouTubeVideo at 0x12464a1d0>"
      ]
     },
     "execution_count": 2,
     "metadata": {},
     "output_type": "execute_result"
    }
   ],
   "source": [
    "YouTubeVideo('KiD4SHKpVho')"
   ]
  },
  {
   "cell_type": "markdown",
   "metadata": {},
   "source": [
    "The inequality above is a two-sided inequality, because it looks at both the upper and lower tails. Sometimes, we'll also consider **one-sided** concentration inequalities, such as $\\mathbb{P}(X-E[X] \\geq t) \\leq \\epsilon$ or $\\mathbb{P}(X-E[X] \\leq -t) \\leq \\epsilon$."
   ]
  },
  {
   "cell_type": "markdown",
   "metadata": {},
   "source": [
    "### Why are we interested in concentration inequalities?"
   ]
  },
  {
   "cell_type": "code",
   "execution_count": 3,
   "metadata": {
    "tags": [
     "remove-input"
    ]
   },
   "outputs": [
    {
     "data": {
      "text/html": [
       "\n",
       "        <iframe\n",
       "            width=\"400\"\n",
       "            height=\"300\"\n",
       "            src=\"https://www.youtube.com/embed/AmPJr9F90wQ\"\n",
       "            frameborder=\"0\"\n",
       "            allowfullscreen\n",
       "            \n",
       "        ></iframe>\n",
       "        "
      ],
      "text/plain": [
       "<IPython.lib.display.YouTubeVideo at 0x124648210>"
      ]
     },
     "execution_count": 3,
     "metadata": {},
     "output_type": "execute_result"
    }
   ],
   "source": [
    "YouTubeVideo('AmPJr9F90wQ')"
   ]
  },
  {
   "cell_type": "markdown",
   "metadata": {},
   "source": [
    "###  Example: One-sided Upper Tail Bound"
   ]
  },
  {
   "cell_type": "markdown",
   "metadata": {},
   "source": [
    "We'll start by looking at the upper tail bound for a random variable $X$ with unknown density $f$ and corresponding CDF $F$. Specifically, we want to find a probabilistic upper bound $\\alpha$ such that most of the time, $X$ takes on values less than $\\alpha$. Formally, we can write this one of two ways:\n",
    "\n",
    "$$\n",
    "\\begin{align*}\n",
    "P(X \\geq \\alpha) &\\leq \\epsilon \\\\\n",
    "P(X < \\alpha) &\\geq 1-\\epsilon\n",
    "\\end{align*}\n",
    "$$\n",
    "\n",
    "For small values of $\\epsilon$, we can interpret this statement as saying that we are confident that $X$ will be below $\\alpha$. For this reason, we'll use the following terminology:\n",
    "* $\\alpha$ is our **upper confidence bound**,\n",
    "* $\\epsilon$ is our **failure probability**, and\n",
    "* $1-\\epsilon$ is our **confidence level**.\n",
    "\n",
    "In general, we can express the bound as $\\alpha(\\epsilon)$ to show the dependence explicitly: we specify some desired level of confidence (or failure probability), and find a bound that holds for that level. In practice, we want these bounds to be as small as possible: we can always choose a trivial bound at $\\infty$, but this isn't useful to us. So, we want $\\alpha(\\epsilon)$ to grow relatively slowly as a function of $\\epsilon$.\n",
    "\n",
    "Suppose we choose $\\epsilon = 0.05$, and we want a value of $\\alpha(0.05)$ that satisfies the inequality above. If $f$ and $F$ were known, we could easily compute such a value by solving for $\\alpha$ (for this example, we'll assume $X$ is continuous so that $P(X < \\alpha) = P(X \\leq \\alpha)$):\n",
    "\n",
    "$$\n",
    "\\begin{align*}\n",
    "P(X \\leq \\alpha) &\\geq 1-\\epsilon \\\\\n",
    "F(\\alpha) &\\geq 1 - \\epsilon \\\\\n",
    "\\alpha &\\geq F^{-1}(1-\\epsilon)\n",
    "\\end{align*}\n",
    "$$\n",
    "\n",
    "In other words, if we knew the CDF $F$ (and therefore the inverse CDF $F^{-1}$), we could calculate $\\alpha(0.05) = F^{-1}(0.95)$. \n",
    "\n",
    "What if we don't know the CDF? If we don't know anything at all about the random variable $X$, then we're stuck: we can't really make any statement about $\\alpha$ that would apply to any arbitrary random variable. But, we'll see that if we make just a few assumptions, or just know a few things about $X$, then we can make some interesting statements."
   ]
  },
  {
   "cell_type": "markdown",
   "metadata": {},
   "source": [
    "###  Example: Sample Mean\n",
    "\n",
    "One of the most common applications of concentration inequalities is to sample means. We'll return to the example of a sequence of i.i.d. random variables $X_1, \\ldots, X_n$ with mean $\\mu$, and their sample mean $Y = (1/n)\\sum X_i$."
   ]
  },
  {
   "cell_type": "markdown",
   "metadata": {},
   "source": [
    "## Markov's Inequality\n",
    "\n",
    "We'll start by assuming that $X$ is **nonnegative**, and that we know its mean $E[X]$. Note that these are fairly weak assumptions: if we know that $E[X] = 10$ and that $X$ is nonnegative, there are an enormous number of possible densities for $X$! Markov's inequality holds for all of them, and it tells us:\n",
    "\n",
    "**Markov's inequality**: For a nonnegative random variable $X$ and bound $\\alpha > 0$, we have\n",
    "\n",
    "$$P(X \\geq \\alpha) \\leq \\frac{E[X]}{\\alpha}.$$\n",
    "\n"
   ]
  },
  {
   "cell_type": "markdown",
   "metadata": {},
   "source": [
    "**Exercise**: *Suppose a slot machine has a payout of $\\$10$. Which of the following are possible values for the probability that the machine pays out exactly $\\$100$?*\n",
    "$2\\%, 4\\%, 5\\%, 7\\%$"
   ]
  },
  {
   "cell_type": "code",
   "execution_count": 4,
   "metadata": {
    "tags": [
     "remove-input"
    ]
   },
   "outputs": [
    {
     "data": {
      "text/html": [
       "\n",
       "        <iframe\n",
       "            width=\"400\"\n",
       "            height=\"300\"\n",
       "            src=\"https://www.youtube.com/embed/DlY81PW4VEg\"\n",
       "            frameborder=\"0\"\n",
       "            allowfullscreen\n",
       "            \n",
       "        ></iframe>\n",
       "        "
      ],
      "text/plain": [
       "<IPython.lib.display.YouTubeVideo at 0x1247a8290>"
      ]
     },
     "execution_count": 4,
     "metadata": {},
     "output_type": "execute_result"
    }
   ],
   "source": [
    "YouTubeVideo('DlY81PW4VEg')"
   ]
  },
  {
   "cell_type": "markdown",
   "metadata": {},
   "source": [
    "### Understanding properties of Markov's inequality\n",
    "\n",
    "Let's use Markov's inequality to derive a general upper confidence bound that will hold for any nonnegative random variable. If we want $P(X \\geq \\alpha) \\leq \\epsilon$ for a given value of $\\epsilon$ (i.e., a desired confidence level / failure probability), then we have $\\epsilon = E[X]/\\alpha$, or equivalently $\\alpha = E[X]/\\epsilon$. We can make some important observations about this bound:\n",
    "\n",
    "* As $\\epsilon$ decreases, $\\alpha$ increases. Convince yourself that this makes sense: if we want our bound $\\alpha$ to have a very small probability of failing (i.e., to have a very small probability that the random variable takes on a value above the bound), then we must make the bound very large.\n",
    "* *How fast does our bound increase as $\\epsilon$ gets small?* As we noted above, a good bound will increase relatively slowly. Unfortunately, Markov's inequality provides a relatively poor bound: the bound increases as $O(\\epsilon^{-1})$, which for most random variables is not a very tight bound.\n",
    "\n",
    "### Example: Sample Mean with Markov's Inequality\n",
    "\n",
    "Given $X_1, \\ldots, X_n$ and their sample mean $Y$, how well does Markov's inequality answer the question of whether $Y$ can be far from the true mean $\\mu$?\n",
    "\n",
    "$$\n",
    "P(Y - \\mu \\geq \\alpha) = P(Y \\geq \\mu + \\alpha) \\leq \\frac{\\mu}{\\alpha}\n",
    "$$\n",
    "\n",
    "This is a remarkably poor bound! In particular, note that it doesn't even improve as the number of samples $n$ grows larger. If we were to ask for an upper confidence bound $\\alpha(\\epsilon, n)$ at a given level of confidence $\\epsilon$ for a given number of samples $n$, we would see that this bound also has no dependence on $n$: in other words, it remains the same regardless of how many samples we collect. This is contrary to our intuition about sample means: in general, we expect that the more independent samples we collect, the better our result should be. This is something we'll look for in future inequalities.\n",
    "\n",
    "\n",
    "**Exercises**: \n",
    "\n",
    "1. Consider a Poisson random variable $T$ with parameter $\\lambda = 5$. Using the PDF/CDF, find the smallest value of $\\alpha$ such that $P(T \\geq \\alpha) \\leq 0.05$. Then, use Markov's inequality to find an upper bound on $\\alpha$. What does this tell you about the usefulness of Markov's inequality in this example?\n",
    "\n",
    "2. Now, let $T_i \\sim \\mathrm{Poisson}(\\lambda)$, for $i = 1, 2, \\ldots, n$, and let $S$ be the sample mean of the $T_i$. If $\\lambda = 5$, find the smallest value $\\alpha$ such that $P(S \\geq \\alpha) \\leq 0.05$ (*hint: use [the fact that the sum of independent Poisson RVs is also Poisson](https://data140.org/textbook/content/Chapter_07/01_Poisson_Distribution.html#sums-of-independent-poisson-variables)*). Then use Markov's inequality to find an upper bound on $\\alpha$. How does the difference compare to Exercise 1?\n",
    "\n",
    "*Hint: you may find the [`scipy.stats.poisson.ppf`](https://docs.scipy.org/doc/scipy/reference/generated/scipy.stats.poisson.html) function useful for both exercises.*\n",
    "\n",
    "As we'll see, part of the reason Markov's inequality provides such a weak bound is that it uses very limited information. \n",
    "\n",
    "### Video example: flipping biased coins"
   ]
  },
  {
   "cell_type": "code",
   "execution_count": 5,
   "metadata": {
    "tags": [
     "remove-input"
    ]
   },
   "outputs": [
    {
     "data": {
      "text/html": [
       "\n",
       "        <iframe\n",
       "            width=\"400\"\n",
       "            height=\"300\"\n",
       "            src=\"https://www.youtube.com/embed/zq_JwBjlIbU\"\n",
       "            frameborder=\"0\"\n",
       "            allowfullscreen\n",
       "            \n",
       "        ></iframe>\n",
       "        "
      ],
      "text/plain": [
       "<IPython.lib.display.YouTubeVideo at 0x1247aa610>"
      ]
     },
     "execution_count": 5,
     "metadata": {},
     "output_type": "execute_result"
    }
   ],
   "source": [
    "YouTubeVideo('zq_JwBjlIbU')"
   ]
  },
  {
   "cell_type": "markdown",
   "metadata": {},
   "source": [
    "## Chebyshev's inequality and higher moments"
   ]
  },
  {
   "cell_type": "markdown",
   "metadata": {},
   "source": [
    "What if we use more information? Specifically, suppose we use both the mean and the variance. To do so, let's consider a random variable $X$, for which we want to bound tail probabilities, and then the random variable $Z = (X-E[X])^2$. We can see that $Z$ is always nonnegative, and by the definition of variance, $E[Z] = \\mathrm{var}(X)$. So, if we apply Markov's inequality to $Z$, we arrive at Chebyshev's inequality:\n",
    "\n",
    "**Chebyshev's inequality**: Consider a random variable $X$ with known (finite) mean and variance. For any $t > 0$,\n",
    "\n",
    "$$\n",
    "\\mathbb{P}(\\vert X - E[X] \\vert \\ge t) \\le \\frac{\\mathrm{var}(X)}{t^2}\n",
    "$$\n",
    "\n",
    "*Proof:*\n",
    "\n",
    "$$\n",
    "\\begin{align*}\n",
    "P(\\vert X - E[X] \\vert \\geq t) \n",
    "    &= P((X - E[X])^2 \\geq t^2) \\\\\n",
    "    &= P(Z \\geq t^2) \\\\\n",
    "    &\\leq \\frac{E[Z]}{t^2}  \\\\\n",
    "    &= \\frac{\\mathrm{var}(X)}{t^2} \\blacksquare\n",
    "\\end{align*}\n",
    "$$\n"
   ]
  },
  {
   "cell_type": "markdown",
   "metadata": {},
   "source": [
    "### Understanding properties of Chebyshev's inequality\n",
    "\n",
    "This tells us that the X is unlikely to be far away from its mean: the probability that the distance $|X-E[X]|$ is large (specifically, larger than $t$), decreases proportional to var$(X)$ and inversely proportional to $t^2$.\n",
    "\n",
    "Let's use Chebyshev's inequality to derive a general upper confidence bound that will hold for any random variable with known mean and variance. If we want $P(X \\geq \\alpha) \\leq \\epsilon$ for a given value of $\\epsilon$, we need to do some algebra first before we can apply Chebyshev's inequality.\n",
    "\n",
    "$$\n",
    "\\begin{align*}\n",
    "P(X \\geq \\alpha)\n",
    "    &= P(X - E[X] \\geq \\alpha - E[X]) \\\\\n",
    "    &\\leq P(|X - E[X]| \\geq \\alpha - E[X]) \\\\\n",
    "    &\\leq \\frac{\\mathrm{var}(X)}{(\\alpha - E[X])^2},\n",
    "\\end{align*}\n",
    "$$\n",
    "\n",
    "So, we have $\\epsilon = \\frac{\\mathrm{var}(X)}{(\\alpha - E[X])^2}$. While we could use the quadratic formula to obtain an expression for $\\alpha(\\epsilon)$, the most important observations here are:\n",
    "\n",
    "* The bound $\\alpha(\\epsilon)$ is directly proportional to the variance of $X$\n",
    "* *How fast does our bound increase as $\\epsilon$ gets small?* The bound $\\alpha(\\epsilon)$ is proportional to $\\epsilon^{-1/2}$ (i.e., it increases as $O(\\epsilon^{-1/2})$, which is a significant improvement over what we saw with Markov's inequality. The question remains: can we do better?\n"
   ]
  },
  {
   "cell_type": "markdown",
   "metadata": {},
   "source": [
    "\n",
    "### Example: Sample Mean with Chebyshev's Inequality\n",
    "\n",
    "Given $X_1, \\ldots, X_n$ and their sample mean $Y$, how well does Chebyshev's inequality answer the question of whether $Y$ can be far from the true mean $\\mu$?\n",
    "\n",
    "$$\n",
    "P(|Y - \\mu| > \\alpha) \\leq \\frac{\\mathrm{var}(Y)}{\\alpha^2} = \\frac{\\mathrm{var}(X_i)}{n\\alpha^2},\n",
    "$$\n",
    "\n",
    "where we use the fact that the $X_i$ are independent to derive $\\mathrm{var}(Y) = \\frac{1}{n^2} \\sum \\mathrm{var}(X_i) = \\mathrm{var}(X_i)/n$. \n",
    "\n",
    "This is significantly better than the bound from Markov's inequality: it tells us that as $n$ increases, the probability decreases proportional to $1/n$. What if we were to ask for an upper confidence bound $\\alpha(\\epsilon, n)$ at a given level of confidence $\\epsilon$, for a given number of samples $n$?\n",
    "\n",
    "$$\n",
    "\\begin{align*}\n",
    "\\epsilon &= \\frac{\\mathrm{var}(X_i)}{n\\alpha^2} \\\\\n",
    "\\alpha &= \\frac{\\sigma_{X_i}}{\\sqrt{n\\epsilon}}\n",
    "\\end{align*}\n",
    "$$\n",
    "\n",
    "We see a dependence on $\\frac{1}{\\sqrt{n}}$, which tells us how fast our bound shrinks as the number of samples increases.\n",
    "\n",
    "\n",
    "**Exercise**: Consider again the i.i.d. Poisson random variables $T_i$ and their sample mean $S$. Use Chebyshev's inequality to find the smallest value $\\alpha$ such that $P(S \\geq \\alpha) \\leq 0.05$. How does your result compare to the true probability and to the Markov bound?\n",
    "\n",
    "### Video example: flipping biased coins with Chebyshev's inequality"
   ]
  },
  {
   "cell_type": "code",
   "execution_count": 6,
   "metadata": {
    "tags": [
     "remove-input"
    ]
   },
   "outputs": [
    {
     "data": {
      "text/html": [
       "\n",
       "        <iframe\n",
       "            width=\"400\"\n",
       "            height=\"300\"\n",
       "            src=\"https://www.youtube.com/embed/WGdIZWKf9eQ\"\n",
       "            frameborder=\"0\"\n",
       "            allowfullscreen\n",
       "            \n",
       "        ></iframe>\n",
       "        "
      ],
      "text/plain": [
       "<IPython.lib.display.YouTubeVideo at 0x1247ab590>"
      ]
     },
     "execution_count": 6,
     "metadata": {},
     "output_type": "execute_result"
    }
   ],
   "source": [
    "YouTubeVideo('WGdIZWKf9eQ')"
   ]
  },
  {
   "cell_type": "markdown",
   "metadata": {},
   "source": [
    "### Higher moment bounds\n",
    "\n",
    "Chebyshev's inequality uses the first and second moments ($E[X]$ and $E[X^2]$). For any nonnegative random variable $X$ and for any natural number $k$, we can apply Markov's inequality to $X^k$, obtaining higher **moment bounds**:\n",
    "\n",
    "$$\n",
    "\\mathbb{P}(X \\geq \\alpha)  \\leq \\frac{E[X^k]}{\\alpha^k}\n",
    "$$\n",
    "\n",
    "Some important observations:\n",
    "\n",
    "* If we use this to find an upper confidence bound $\\alpha(\\epsilon)$ as above, we can derive that the bound increases as $O(\\epsilon^{-1/k})$, which for large values of $k$ can be very small.\n",
    "* Using such bounds requires additional information about the random variable $X$: in fact, if we knew exactly all the moments $E[X^k]$ for $k = 1, 2, \\ldots$, then we would most likely also know the CDF."
   ]
  },
  {
   "cell_type": "markdown",
   "metadata": {},
   "source": [
    "## Moment generating function and Chernoff's method\n",
    "\n",
    "*You may find it helpful to review [Section 19.2 of the Data 140 textbook](https://data140.org/textbook/content/Chapter_19/02_Moment_Generating_Functions.html).*\n",
    "\n",
    "Recall from calculus that we can write the exponential function $e^x$ using aa Taylor series as:\n",
    "\n",
    "$$\n",
    "e^x = 1 + x + \\frac{1}{2!} x^2 + \\frac{1}{3!} x^3 + \\frac{1}{4!} x^4 + \\cdots,\n",
    "$$\n",
    "\n",
    "Motivated by this, and by our observation earlier that we can use the higher moments of a random variable to establish better tail bounds, we'll examine the **moment-generating function** (or MGF) of a random variable $X$:\n",
    "\n",
    "$$\n",
    "M_X(\\lambda) = E[e^{\\lambda X}] = 1 + \\lambda E[X] + \\frac{\\lambda^2}{2!} E[X^2] + \\frac{\\lambda^3}{3!} E[X^3] + \\cdots\n",
    "$$\n",
    "\n",
    "A very important fact about MGFs is that for a sum of independent random variables $Y = X_1 + \\cdots + X_n$, the MGF of $Y$ is equal to the product of the MGFs for each $X_i$:\n",
    "\n",
    "$$\n",
    "\\begin{align*}\n",
    "M_Y(\\lambda) \n",
    "    &= E\\left[e^{\\lambda Y}\\right] \\\\\n",
    "    &= E\\left[e^{\\sum_{i=1}^n  \\lambda X_i}\\right] \\\\\n",
    "    &= E\\left[\\prod_{i=1}^n e^{\\lambda X_i}\\right] \\\\\n",
    "    &= \\prod_{i=1}^n E\\left[e^{\\lambda X_i}\\right] & \\text{(by independence)} \\\\\n",
    "    &= \\prod_{i=1}^n M_{X_i}(\\lambda)\n",
    "\\end{align*}\n",
    "$$\n",
    "\n",
    "### Chernoff Bound\n",
    "\n",
    "Since $e^{\\lambda X}$ is a nonnegative random variable, we can again use Markov's inequality to find a bound:\n",
    "\n",
    "$$\n",
    "P(X \\geq \\alpha) = P(E[e^{\\lambda X}] \\geq e^{\\lambda \\alpha}) ~ \\leq ~\n",
    "\\frac{E[e^{\\lambda X}]}{e^{\\lambda \\alpha}} ~ = ~ \\frac{M_X(\\lambda)}{e^{\\lambda \\alpha}}\n",
    "$$\n",
    "\n",
    "This is a family of bounds, one for each positive $\\lambda$. To get the best possible one (i.e., the smallest), we should minimize over all nonnegative $\\lambda$:\n",
    "\n",
    "$$\n",
    "P(X \\geq \\alpha) ~ \\leq ~ \\min_{\\lambda \\ge 0} \\frac{M_X(\\lambda)}{e^{\\lambda \\alpha}}\n",
    "$$\n",
    "\n",
    "This is the **Chernoff bound.** "
   ]
  },
  {
   "cell_type": "code",
   "execution_count": 7,
   "metadata": {
    "tags": [
     "remove-input"
    ]
   },
   "outputs": [
    {
     "data": {
      "text/html": [
       "\n",
       "        <iframe\n",
       "            width=\"400\"\n",
       "            height=\"300\"\n",
       "            src=\"https://www.youtube.com/embed/YpzSdCD81qg\"\n",
       "            frameborder=\"0\"\n",
       "            allowfullscreen\n",
       "            \n",
       "        ></iframe>\n",
       "        "
      ],
      "text/plain": [
       "<IPython.lib.display.YouTubeVideo at 0x1247b0690>"
      ]
     },
     "execution_count": 7,
     "metadata": {},
     "output_type": "execute_result"
    }
   ],
   "source": [
    "YouTubeVideo('YpzSdCD81qg')"
   ]
  },
  {
   "cell_type": "markdown",
   "metadata": {},
   "source": [
    "Some important observations:\n",
    "\n",
    "* This requires significantly more information about the distribution than the earlier two bounds we saw. Specifically, if we know all the moments of a distribution, in most cases we effectively know the distribution. But, as we'll see shortly, it can still be useful if we can bound the MGF for an entire class of distributions: in that case, we can replace $M_X(\\lambda)$ with an upper bound on it.\n",
    "* *How fast does our bound increase as $\\epsilon$ gets small?* Solving for an upper confidence bound $\\alpha(\\epsilon)$, we see that $\\epsilon = \\frac{M_X(\\lambda)}{e^{\\lambda \\alpha}}$. If we were to for $\\alpha$, we  would see that it grows as $\\log(\\epsilon^{-1})$: this is much, much slower than our previous two results! So, if we can find a class of random variables where the MGF is known (or bounded, as in the previous observation), then we can place much tighter bounds on those random variables.\n",
    "\n",
    "\n",
    "### Example: Sample Mean with Chernoff Bound\n",
    "\n",
    "Given $X_1, \\ldots, X_n$ and their sample mean $Y$, how well does Chernoff's bound answer the question of whether $Y$ can be far from the true mean $\\mu$? Because we know about the MGF of a sum of random variables, we'll bound the variable $nY = \\sum X_i$:\n",
    "\n",
    "$$\n",
    "P(Y - \\mu \\geq \\alpha) = P(nY - n\\mu \\geq n\\alpha) = P(nY \\geq n(\\mu + \\alpha)) \\leq \\min_{\\lambda > 0} \\frac{\\left[M_{X_i}(\\lambda)\\right]^n}{e^{\\lambda n(\\mu+\\alpha)}}\n",
    "$$\n",
    "\n",
    "This is even better than the Chebyshev bound: as $n$ increases, the probability decreases proportional to $e^{-n}$. \n",
    "\n",
    "What if we were to ask for an upper confidence bound $\\alpha(\\epsilon, n)$ at a given level of confidence $\\epsilon$ and a given number of samples $n$? Doing the computation properly would require some more extensive computation due to the implicit optimization over $\\lambda$ (specifically, the optimal value of $\\lambda$ will depend on $n$), but we would see that the dependence on the confidence level $\\epsilon$ is $O(\\log(\\epsilon^{-1}))$ , and the dependence on the number of samples is (just as with Chebyshev's inequality) $n^{-1/2}$.\n",
    "\n",
    "**Exercise**: Consider once more the i.i.d. Poisson random variables $T_i$ and their sample mean $S$. Use the Chernoff bound to find the smallest value $\\alpha$ such that $P(S \\geq \\alpha) \\leq 0.05$. How does your result compare to the true probability, to the Markov bound, and to the Chebyshev bound? *Hint: you can easily look up the MGF for the Poisson distribution.*"
   ]
  },
  {
   "cell_type": "markdown",
   "metadata": {},
   "source": [
    "### Video example: flipping biased coins with the Chernoff bound"
   ]
  },
  {
   "cell_type": "code",
   "execution_count": 8,
   "metadata": {
    "tags": [
     "remove-input"
    ]
   },
   "outputs": [
    {
     "data": {
      "text/html": [
       "\n",
       "        <iframe\n",
       "            width=\"400\"\n",
       "            height=\"300\"\n",
       "            src=\"https://www.youtube.com/embed/YpzSdCD81qg\"\n",
       "            frameborder=\"0\"\n",
       "            allowfullscreen\n",
       "            \n",
       "        ></iframe>\n",
       "        "
      ],
      "text/plain": [
       "<IPython.lib.display.YouTubeVideo at 0x1247b00d0>"
      ]
     },
     "execution_count": 8,
     "metadata": {},
     "output_type": "execute_result"
    }
   ],
   "source": [
    "YouTubeVideo('YpzSdCD81qg')"
   ]
  },
  {
   "cell_type": "markdown",
   "metadata": {},
   "source": [
    "## (Optional) Example: comparing bounds on a known Gaussian random variable"
   ]
  },
  {
   "cell_type": "markdown",
   "metadata": {},
   "source": [
    "#### Bounding the probability for a given threshold\n",
    "\n",
    "We now apply each of the bounds we've learned about to a Gaussian random variable with known mean $\\mu$ and variance $\\sigma^2$, $X \\sim \\mathcal{N}(\\mu, \\sigma^2)$. For this example, we can also compute exact bounds and compare them.\n",
    "\n",
    "We cannot use Markov's inequality, since this random variable can take on negative values.\n",
    "\n",
    "Because $X - \\mu$ is symmetric about zero, the Chebyshev bound for a single tail is:\n",
    "\n",
    "$$\n",
    "P(X - \\mu \\geq t) = \\frac{1}{2}P(|X - \\mu| \\geq t) \\leq \\frac{\\sigma^2}{2t^2}\n",
    "$$\n",
    "\n",
    "Next, let's apply Chernoff's method. Let $Z = X - \\mu \\sim \\mathcal{N}(0, \\sigma^2)$. Then $Z$ has MGF $M_Z(\\lambda) = e^{\\sigma^2 \\lambda^2/2}$. So for $\\lambda \\ge 0$,\n",
    "\n",
    "$$\n",
    "\\mathbb{P}(X - \\mu > t) ~ \\le ~ \\min_{\\lambda \\geq 0} \\exp \\left( \\frac{\\sigma^2 \\lambda^2}{2} - \\lambda t \\right)\n",
    "$$"
   ]
  },
  {
   "cell_type": "markdown",
   "metadata": {},
   "source": [
    "How do we optimize this in $\\lambda$? Recognize that since $\\exp(x)$ is an increasing function, we have\n",
    "$$\n",
    "\\min_{\\lambda \\geq 0} \\exp \\left( \\frac{\\sigma^2 \\lambda^2}{2} - \\lambda t \\right) = \\exp \\left(\\min_{\\lambda \\geq 0} \\left\\{\\frac{\\sigma^2 \\lambda^2}{2} - \\lambda t \\right\\} \\right).\n",
    "$$\n",
    "\n",
    "The quantity in the exponent is a quadratic function $f(\\lambda)$, and can be minimized using the quadratic formula to get $\\lambda^* = \\frac{t}{\\sigma^2}$, and $f(\\lambda^*) = \\frac{-t^2}{2\\sigma^2}$.\n",
    "\n",
    "Putting everything together, we get\n",
    "$$\n",
    "P(X-\\mu > t) ~\\leq ~\\exp\\left(-\\frac{t^2}{2\\sigma^2}\\right)\n",
    "$$"
   ]
  },
  {
   "cell_type": "markdown",
   "metadata": {},
   "source": [
    "Let's visualize these two bounds along with the exact probability (which we can calculate using the CDF):"
   ]
  },
  {
   "cell_type": "code",
   "execution_count": 9,
   "metadata": {},
   "outputs": [
    {
     "data": {
      "image/png": "[encoded data removed]",
      "text/plain": [
       "<Figure size 800x300 with 2 Axes>"
      ]
     },
     "metadata": {},
     "output_type": "display_data"
    }
   ],
   "source": [
    "sigma = 2\n",
    "\n",
    "t_min = 3\n",
    "t_max = 7\n",
    "t = np.linspace(t_min, t_max , 500)\n",
    "\n",
    "chernoff = np.exp(-0.5*((t/sigma)**2))\n",
    "chebyshev = 0.5 * ((sigma/t)**2)\n",
    "exact_probability = 1 - stats.norm.cdf(t/sigma)\n",
    "\n",
    "fig, axes = plt.subplots(1,2, figsize = (8,3))\n",
    "for i, ax in enumerate(axes):\n",
    "    ax.plot(t, exact_probability, label='Exact', lw=2)\n",
    "    ax.plot(t, chernoff, lw=2, label='Chernoff')\n",
    "    ax.plot(t, chebyshev, lw=2, label='Chebyshev')\n",
    "    ax.set_xlim(t_min, t_max)\n",
    "    ax.set_xlabel('$t$')\n",
    "    ax.set_ylabel('$t$')\n",
    "    ax.legend()\n",
    "    if i == 1:\n",
    "        ax.semilogy()\n",
    "        ax.set_ylabel('Probability (log scale)')\n",
    "    else:\n",
    "        ax.set_ylabel('Probability')\n",
    "    ax.set_title(r'Bounds on $P(X - \\mu \\geq t)$ when $X \\sim \\mathcal{N}(\\mu, 2^2)$')\n",
    "plt.tight_layout()"
   ]
  },
  {
   "cell_type": "markdown",
   "metadata": {},
   "source": [
    "#### Bounding the threshold for a given probability\n",
    "\n",
    "Suppose that instead of being given a threshold and asked for the probability of exceeding it, we instead want the opposite: we want to know, given a desired probability, a bound or threshold such that the probability of exceeding that bound is small. This is the **upper confidence bound** we described earlier. To simplify our calculations, and without loss of generality, we'll assume that $\\mu = 0$. If we go about computing this for the normal distribution, we find that:\n",
    "\n",
    "* For Chebyshev's inequality, we have that $\\epsilon = \\frac{\\sigma^2}{2\\alpha^2}$, or that $\\alpha(\\epsilon) = \\frac{\\sigma}{\\sqrt{2\\epsilon}}$.\n",
    "* For Chernoff's bound, we have that $\\epsilon = \\exp\\left(-\\frac{\\alpha^2}{2\\sigma^2}\\right)$, or equivalently $\\alpha(\\epsilon) = \\sigma\\sqrt{2\\log(1/\\epsilon)}$.\n",
    "* As we saw before, the exact probability is $F^{-1}(1-\\epsilon)$.\n",
    "\n"
   ]
  },
  {
   "cell_type": "code",
   "execution_count": 10,
   "metadata": {},
   "outputs": [
    {
     "data": {
      "image/png": "[encoded data removed]",
      "text/plain": [
       "<Figure size 800x300 with 2 Axes>"
      ]
     },
     "metadata": {},
     "output_type": "display_data"
    }
   ],
   "source": [
    "sigma = 2\n",
    "\n",
    "eps_min = 0\n",
    "eps_max = 1\n",
    "eps = np.linspace(eps_min, eps_max, 100)\n",
    "eps = np.hstack([np.logspace(np.log10(eps[1]), -3, 10)[::-1], eps[1:]])\n",
    "\n",
    "chernoff = sigma * np.sqrt(-2*np.log(eps))\n",
    "chebyshev = sigma / np.sqrt(2*eps)\n",
    "exact_probability = stats.norm.ppf(1-eps)\n",
    "\n",
    "fig, axes = plt.subplots(1,2, figsize = (8,3))\n",
    "for i, ax in enumerate(axes):\n",
    "    ax.plot(eps, exact_probability, label='Exact', lw=2)\n",
    "    ax.plot(eps, chernoff, lw=2, label='Chernoff')\n",
    "    ax.plot(eps, chebyshev, lw=2, label='Chebyshev')\n",
    "    ax.set_ylabel(r'Upper conf. bound $\\alpha(\\epsilon)$')\n",
    "    ax.legend()\n",
    "    if i == 1:\n",
    "        ax.semilogx()\n",
    "        ax.set_xlabel(r'$\\epsilon$ (log scale)')\n",
    "    else:\n",
    "        ax.set_xlabel(r'$\\epsilon$')\n",
    "    ax.set_title(r'$P(X \\geq \\alpha) \\leq \\epsilon$ when $X \\sim \\mathcal{N}(0, 2^2)$')\n",
    "plt.tight_layout()"
   ]
  },
  {
   "cell_type": "markdown",
   "metadata": {},
   "source": [
    "Both bounds are clearly loose (i.e., too large compared to the true value), but the Chernoff bound is much tighter for larger values of $t$ (or equivalently, for small values of $\\epsilon$. \n",
    "\n",
    "It's a bit silly to compute Chernoff and Chebyshev tail bounds this way for normal random variables, because we already know the true probabilities. Still, this helps us understand how good those bounds are, and we'll see in the next section that we can apply these same bounds even in cases where we don't know the MGF exactly."
   ]
  },
  {
   "cell_type": "markdown",
   "metadata": {},
   "source": [
    "## Hoeffding's Inequality"
   ]
  },
  {
   "cell_type": "markdown",
   "metadata": {},
   "source": [
    "So far, we've seen that using the MGF of a random variable can give us excellent tail bounds. But, if we know the MGF exactly, then we also know the distribution of the random variable, and in that case we might as well use the CDF to find tail bounds. As we saw in the previous example, even the Chernoff bound was not as good as using the actual CDF.\n",
    "\n",
    "In that case, what's the point of the Chernoff bound? In many cases, we may not know the MGF, but we can **bound** it: in other words, we can find some function of $\\lambda$, $h(\\lambda)$, such that $M_X(\\lambda) \\leq \\lambda ~ ~ \\forall \\lambda$.\n",
    "\n",
    "One such example is that of **bounded** random variables: that is, random variables that only take on values between some lower bound $a$ and some upper bound $b$.\n",
    "\n",
    "### Hoeffding's Lemma\n",
    "\n",
    "Hoeffding's lemma gives us an upper bound on the MGF for any bounded random variable. Specifically, given a random variable $X$ with mean $E[X]$ that is bounded between $a$ and $b$, we have that\n",
    "\n",
    "$$\n",
    "M_X(\\lambda) = E[e^{\\lambda X}] \\leq \\exp\\left\\{\\lambda E[X] + \\frac{\\lambda^2(b-a)^2}{8}\\right\\}\n",
    "$$\n",
    "\n",
    "For the proof and more on the lemma, see [the Hoeffding's lemma Wikipedia article](https://en.wikipedia.org/wiki/Hoeffding%27s_lemma).\n",
    "\n"
   ]
  },
  {
   "cell_type": "code",
   "execution_count": 11,
   "metadata": {
    "tags": [
     "remove-input"
    ]
   },
   "outputs": [
    {
     "data": {
      "text/html": [
       "\n",
       "        <iframe\n",
       "            width=\"400\"\n",
       "            height=\"300\"\n",
       "            src=\"https://www.youtube.com/embed/40RQ_O0VK7M\"\n",
       "            frameborder=\"0\"\n",
       "            allowfullscreen\n",
       "            \n",
       "        ></iframe>\n",
       "        "
      ],
      "text/plain": [
       "<IPython.lib.display.YouTubeVideo at 0x124c06d50>"
      ]
     },
     "execution_count": 11,
     "metadata": {},
     "output_type": "execute_result"
    }
   ],
   "source": [
    "YouTubeVideo('40RQ_O0VK7M')"
   ]
  },
  {
   "cell_type": "markdown",
   "metadata": {},
   "source": [
    "### Hoeffding's Inequality\n",
    "\n",
    "We could use Hoeffding's lemma on any bounded random variable, in combination with Chernoff's bound, to bound tail probabilities. For the rest of this section, we'll focus on the specific case of sample means, which is what Hoeffding's inequality is all about.\n",
    "\n",
    "Let $X_1 ,X_2, \\ldots, X_n$ be independent (but not necessarily identically distributed) random variables bounded between $a$ and $b$. Then Hoeffding's inequality states that:\n",
    "\n",
    "$$\n",
    "P\\left(\\frac{1}{n}\\sum_{i=1}^n (X_i - \\mathbb{E}[X_i]) \\geq t\\right) \\leq \\exp\\left(-\\frac{2nt^2}{(b-a)^2}\\right) \\\\\n",
    "P\\left(\\frac{1}{n}\\sum_{i=1}^n (X_i - \\mathbb{E}[X_i]) \\leq -t\\right) \\leq \\exp\\left(-\\frac{2nt^2}{(b-a)^2}\\right).\n",
    "$$\n",
    "\n",
    "We also have the two-sided version:\n",
    "\n",
    "$$\n",
    "P\\left(\\left|\\frac{1}{n}\\sum_{i=1}^n (X_i - \\mathbb{E}[X_i])\\right| \\geq t\\right) \\leq 2\\exp\\left(-\\frac{2nt^2}{(b-a)^2}\\right).\n",
    "$$\n",
    "\n",
    "In the case where the $X_i$ are identically distributed with mean $\\mu$, we can rewrite the first version as:\n",
    "\n",
    "$$\n",
    "\\mathbb{P}\\left(\\left[\\frac{1}{n}\\sum_{i=1}^n X_i\\right] - \\mu \\geq t\\right) \\leq \\exp\\left(-\\frac{2nt^2}{(b-a)^2}\\right) \\\\\n",
    "$$\n",
    "\n",
    "This is a remarkable result! Recall that the Central Limit Theorem tells us that a similar result holds asymptotically: that is, for large values of $n$, the sample mean converges to a normal distribution, and therefore, the probability of obtaining a value far from the mean decreases as $e^{-t^2}$. But this statement holds for **any** value of $n$: whether $n$ is small or big, or the distribution of the $X_i$ is \"nice\" or not, this is true for the sample mean of any bounded random variables.\n",
    "\n",
    "We can also know it without knowing anything else about the distribution of the random variables $X_i$, other than some bounds on them. \n",
    "\n",
    "\n",
    "Just as before, we can make some observations:\n",
    "\n",
    "* *How fast does our bound increase as $\\epsilon$ gets small?* Solving for an upper confidence bound $\\alpha(\\epsilon)$, we see that $\\epsilon = \\frac{M_X(\\lambda)}{e^{\\lambda \\alpha}}$. Solving for $\\alpha$ (see below for an example), we can see that it grows as $\\log(\\epsilon^{-1})$: this is much, much slower than our previous two results! So, if we can find a class of random variables where the MGF is known (or bounded, as in the previous observation), then we can place much tighter bounds on those random variables."
   ]
  },
  {
   "cell_type": "markdown",
   "metadata": {},
   "source": [
    "*Note a small error in the video below: the last equation should say $P(Y \\leq -t)$, not $P(Y \\leq t)$*"
   ]
  },
  {
   "cell_type": "code",
   "execution_count": 12,
   "metadata": {
    "tags": [
     "remove-input"
    ]
   },
   "outputs": [
    {
     "data": {
      "text/html": [
       "\n",
       "        <iframe\n",
       "            width=\"400\"\n",
       "            height=\"300\"\n",
       "            src=\"https://www.youtube.com/embed/f1tbEnldSt0\"\n",
       "            frameborder=\"0\"\n",
       "            allowfullscreen\n",
       "            \n",
       "        ></iframe>\n",
       "        "
      ],
      "text/plain": [
       "<IPython.lib.display.YouTubeVideo at 0x124648910>"
      ]
     },
     "execution_count": 12,
     "metadata": {},
     "output_type": "execute_result"
    }
   ],
   "source": [
    "YouTubeVideo('f1tbEnldSt0')"
   ]
  },
  {
   "cell_type": "markdown",
   "metadata": {},
   "source": [
    "### Example: Sample Mean with Hoeffding's inequality\n",
    "\n",
    "Given $X_1, \\ldots, X_n$ and their sample mean $Y$, how well does Hoefdding's inequality answer the question of whether $Y$ can be far from the true mean $\\mu$? Answering this question simply requires us to state the inequality and then analyze the result:\n",
    "\n",
    "$$\n",
    "\\mathbb{P}\\left(Y - \\mu \\geq \\alpha\\right) \\leq \\exp\\left(-\\frac{2n\\alpha^2}{(b-a)^2}\\right) \\\\\n",
    "$$\n",
    "\n",
    "As expected (since Hoeffding's inequality is derived using the Chernoff bound), we see the same dependence on $n$: the probability decreases proportional to $e^{-n}$. As mentioned earlier, we also see a dependence on $\\alpha$ of the form $e^{-\\alpha^2}$, as we would with a normal random variable or with the Central Limit Theorem.\n",
    "\n",
    "What if we were to ask for an upper confidence bound $\\alpha(\\epsilon)$ at a given level of confidence $\\epsilon$? \n",
    "\n",
    "$$\n",
    "\\begin{align*}\n",
    "\\epsilon &= \\exp\\left(-\\frac{2n\\alpha^2}{(b-a)^2}\\right) \\\\\n",
    "(b-a)^2 \\log(1/\\epsilon) &= 2n\\alpha^2 \\\\\n",
    "\\alpha &= |b-a|\\sqrt{\\frac{\\log(1/\\epsilon)}{2n}}\n",
    "\\end{align*}\n",
    "$$\n",
    "\n",
    "We can see that while this bound's dependence on $\\epsilon$ is much better than what we saw with the Chebyshev bound, its dependence on $n$ is similar: **this bound also decreases proportional to $n^{-1/2}$**."
   ]
  },
  {
   "cell_type": "markdown",
   "metadata": {},
   "source": [
    "### Proof of Hoeffding's Inequality\n",
    "Without loss of generality ,we can replace $X_i$ with $X_i - \\mathbb{E}[X_i]$ if necessary, so we may assume that $\\mathbb{E}[X_i] = 0$ for each $i$ to simplify our calculations. Let $Z = \\sum_{i=1}^n \\frac{X_i}{n}$, and observe that each term is bounded between $a/n$ and $b/n$. Then \n",
    "\n",
    "$$\n",
    "\\begin{align*}\n",
    "M_Z(\\lambda) &= \\prod_{i=1}^n M_{X_i}(\\lambda) \\\\\n",
    "& \\leq \\prod_{i=1}^n \\exp \\left( \\frac{(b-a)^2}{8n^2}\\lambda^2 \\right) \\\\\n",
    "& = \\exp \\left( \\frac{(b-a)^2}{8n}\\lambda^2 \\right)\n",
    "\\end{align*}\n",
    "$$\n",
    "\n",
    "Applying Chernoff's method:\n",
    "\n",
    "$$\n",
    "\\begin{align*}\n",
    "P(Z > t) ~ & \\le ~ \\min_{\\lambda \\geq 0} \\exp \\left( \\frac{(b-a)^2 \\lambda^2}{8n} - \\lambda t \\right) \\\\\n",
    "& = \\exp\\left(-\\frac{2nt^2}{(b-a)^2}\\right).\n",
    "\\end{align*}\n",
    "$$\n",
    "\n",
    "The proof of the two-sided bound is left as an exercise (and/or can easily be looked up)."
   ]
  },
  {
   "cell_type": "code",
   "execution_count": 12,
   "metadata": {
    "tags": [
     "remove-input"
    ]
   },
   "outputs": [
    {
     "data": {
      "text/html": [
       "\n",
       "        <iframe\n",
       "            width=\"400\"\n",
       "            height=\"300\"\n",
       "            src=\"https://www.youtube.com/embed/f1tbEnldSt0\"\n",
       "            frameborder=\"0\"\n",
       "            allowfullscreen\n",
       "            \n",
       "        ></iframe>\n",
       "        "
      ],
      "text/plain": [
       "<IPython.lib.display.YouTubeVideo at 0x124648910>"
      ]
     },
     "execution_count": 12,
     "metadata": {},
     "output_type": "execute_result"
    }
   ],
   "source": [
    "YouTubeVideo('OgdPPGNrRdM')"
   ]
  },
  {
   "cell_type": "markdown",
   "metadata": {},
   "source": [
    "## Concentration Inequalities and Confidence intervals\n",
    "\n",
    "We've seen many times that if we have an estimator $\\hat{\\theta}$, we can construct a confidence interval for that estimator by using the distribution of $\\hat{\\theta}$. Up until now, we've relied on either the bootstrap, computing the distribution exactly, or using the Central Limit Theorem to approximate it.\n",
    "\n",
    "But, all of the methods we just discussed are applicable to any random variable! So, we could use any of them to construct a confidence interval for an estimator $\\hat{\\theta}$, especially if that estimator is a sample mean (but often even if it isn't). While the other approaches are perfectly valid, there are often cases where we might prefer a confidence interval from concentration inequalities instead:\n",
    "\n",
    "* *Why concentration inequalities over computing the distribution exactly?* As we've already discussed, in many cases, we many not know the distribution of our random variables exactly, and computing the distribution exactly may not be feasible. \n",
    "* *Why concentration inequalities over bootstrap?* Using the bootstrap requires us to observe data and use that data to generate bootstrap resamples. In some cases, if we want to show a theoretical confidence interval before observing any data, it's useful to use concentration inequalities.\n",
    "* *Why concentration inequalities over the Central Limit Theorem?* As we've already discussed, the Central Limit Theorem only applies for large values of $n$, while the results we've derived here are applicable for any value of $n$, and for any shape of distribution."
   ]
  },
  {
   "cell_type": "code",
   "execution_count": 13,
   "metadata": {
    "tags": [
     "remove-input"
    ]
   },
   "outputs": [
    {
     "data": {
      "text/html": [
       "\n",
       "        <iframe\n",
       "            width=\"400\"\n",
       "            height=\"300\"\n",
       "            src=\"https://www.youtube.com/embed/uiwbn8DbCKk\"\n",
       "            frameborder=\"0\"\n",
       "            allowfullscreen\n",
       "            \n",
       "        ></iframe>\n",
       "        "
      ],
      "text/plain": [
       "<IPython.lib.display.YouTubeVideo at 0x124afa050>"
      ]
     },
     "execution_count": 13,
     "metadata": {},
     "output_type": "execute_result"
    }
   ],
   "source": [
    "YouTubeVideo('uiwbn8DbCKk')"
   ]
  }
 ],
 "metadata": {
  "celltoolbar": "Edit Metadata",
  "kernelspec": {
   "display_name": "Python 3 (ipykernel)",
   "language": "python",
   "name": "python3"
  },
  "language_info": {
   "codemirror_mode": {
    "name": "ipython",
    "version": 3
   },
   "file_extension": ".py",
   "mimetype": "text/x-python",
   "name": "python",
   "nbconvert_exporter": "python",
   "pygments_lexer": "ipython3",
   "version": "3.11.5"
  }
 },
 "nbformat": 4,
 "nbformat_minor": 4
}
