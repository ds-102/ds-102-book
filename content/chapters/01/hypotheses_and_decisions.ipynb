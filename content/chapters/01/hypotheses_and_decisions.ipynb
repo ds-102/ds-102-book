{
 "cells": [
  {
   "cell_type": "markdown",
   "id": "breathing-necessity",
   "metadata": {},
   "source": [
    "# Hypotheses and decisions"
   ]
  },
  {
   "cell_type": "markdown",
   "id": "silent-server",
   "metadata": {},
   "source": [
    "Hypothesis testing, binary decision making, Neyman-Pearson, false discovery rate, Bonferroni correction, and more."
   ]
  }
 ],
 "metadata": {
  "kernelspec": {
   "display_name": "Python 3",
   "language": "python",
   "name": "python3"
  },
  "language_info": {
   "codemirror_mode": {
    "name": "ipython",
    "version": 3
   },
   "file_extension": ".py",
   "mimetype": "text/x-python",
   "name": "python",
   "nbconvert_exporter": "python",
   "pygments_lexer": "ipython3",
   "version": "3.9.1"
  }
 },
 "nbformat": 4,
 "nbformat_minor": 5
}
