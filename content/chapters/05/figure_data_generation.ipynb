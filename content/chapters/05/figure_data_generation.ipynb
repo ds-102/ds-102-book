{
 "cells": [
  {
   "cell_type": "code",
   "execution_count": 1,
   "id": "relative-navigation",
   "metadata": {},
   "outputs": [],
   "source": [
    "%matplotlib inline\n",
    "\n",
    "import daft\n",
    "import matplotlib.pyplot as plt"
   ]
  },
  {
   "cell_type": "code",
   "execution_count": 2,
   "id": "noted-zambia",
   "metadata": {},
   "outputs": [
    {
     "name": "stderr",
     "output_type": "stream",
     "text": [
      "//anaconda3/lib/python3.7/site-packages/ipykernel_launcher.py:14: UserWarning: This figure includes Axes that are not compatible with tight_layout, so results might be incorrect.\n",
      "  \n"
     ]
    },
    {
     "data": {
      "image/png": "[encoded data removed]",
      "text/plain": [
       "<Figure size 155.906x96.378 with 1 Axes>"
      ]
     },
     "metadata": {},
     "output_type": "display_data"
    }
   ],
   "source": [
    "import matplotlib.pyplot as plt\n",
    "pgm = daft.PGM()\n",
    "\n",
    "### Line graph\n",
    "pgm.add_node(\"s\", r\"Sunburn\", 0, 0, aspect=1.9)\n",
    "pgm.add_node(\"i\", r\"Ice cream\", 1.5, 0, aspect=2.3)\n",
    "pgm.add_node(\"w\", r\"Sun\", 0.75, 1, aspect=1.2)\n",
    "\n",
    "pgm.add_edge(\"w\", \"i\")\n",
    "pgm.add_edge(\"w\", \"s\")\n",
    "\n",
    "pgm.render()\n",
    "#plt.gca().set_xlabel('(e)')\n",
    "plt.tight_layout()\n",
    "pgm.figure.savefig(\"sunburn_icecream_.png\")\n",
    "\n"
   ]
  },
  {
   "cell_type": "code",
   "execution_count": 3,
   "id": "sunrise-oxygen",
   "metadata": {},
   "outputs": [
    {
     "data": {
      "image/png": "[encoded data removed]",
      "text/plain": [
       "<Figure size 138.898x103.465 with 1 Axes>"
      ]
     },
     "metadata": {},
     "output_type": "display_data"
    }
   ],
   "source": [
    "import matplotlib.pyplot as plt\n",
    "pgm = daft.PGM()\n",
    "\n",
    "### Line graph\n",
    "pgm.add_node(\"account\", \"Account popularity/\\nbudget\", 0.75, 1, aspect=3.0, scale=1.5)\n",
    "pgm.add_node(\"dslr\", r\"DSLR\", 0, 0, aspect=1.3)\n",
    "pgm.add_node(\"likes\", r\"Likes\", 1.5, 0, aspect=1.4)\n",
    "\n",
    "\n",
    "\n",
    "pgm.add_edge(\"account\", \"dslr\")\n",
    "pgm.add_edge(\"account\", \"likes\")\n",
    "pgm.add_edge(\"dslr\", \"likes\")\n",
    "\n",
    "pgm.render()\n",
    "#plt.gca().set_xlabel('(e)')\n",
    "#plt.tight_layout()\n",
    "pgm.figure.savefig(\"instagram_.png\")"
   ]
  },
  {
   "cell_type": "code",
   "execution_count": 4,
   "id": "canadian-container",
   "metadata": {},
   "outputs": [
    {
     "data": {
      "image/png": "[encoded data removed]",
      "text/plain": [
       "<Figure size 184.961x39.685 with 1 Axes>"
      ]
     },
     "metadata": {},
     "output_type": "display_data"
    }
   ],
   "source": [
    "import matplotlib.pyplot as plt\n",
    "#pgm = daft.PGM(node_ec=None)\n",
    "pgm = daft.PGM()\n",
    "\n",
    "### Line graph\n",
    "pgm.add_node(\"mozz\", r\"Mozzarella\", 0, 0, aspect=2.25)\n",
    "pgm.add_node(\"phd\", r\"Civil eng. PhDs\", 1.75, 0, aspect=3.0)\n",
    "\n",
    "\n",
    "pgm.render()\n",
    "#plt.gca().set_xlabel('(e)')\n",
    "#plt.tight_layout()\n",
    "pgm.figure.savefig(\"spurious.png\")\n",
    "\n"
   ]
  },
  {
   "cell_type": "code",
   "execution_count": 52,
   "id": "institutional-wyoming",
   "metadata": {
    "scrolled": true
   },
   "outputs": [
    {
     "name": "stderr",
     "output_type": "stream",
     "text": [
      "//anaconda3/lib/python3.7/site-packages/ipykernel_launcher.py:16: UserWarning: This figure includes Axes that are not compatible with tight_layout, so results might be incorrect.\n",
      "  app.launch_new_instance()\n"
     ]
    },
    {
     "data": {
      "image/png": "[encoded data removed]",
      "text/plain": [
       "<Figure size 158.74x96.378 with 1 Axes>"
      ]
     },
     "metadata": {},
     "output_type": "display_data"
    }
   ],
   "source": [
    "import matplotlib.pyplot as plt\n",
    "pgm = daft.PGM()\n",
    "\n",
    "### Line graph\n",
    "pgm.add_node(\"rating\", r\"Rating\", 1.5, 0, aspect=1.9)\n",
    "pgm.add_node(\"restaurant\", r\"Restaurant\", 0, 0, aspect=2.5)\n",
    "pgm.add_node(\"year\", r\"Year\", 0.75, 1, aspect=1.2)\n",
    "\n",
    "pgm.add_edge(\"year\", \"rating\")\n",
    "pgm.add_edge(\"year\", \"restaurant\")\n",
    "\n",
    "pgm.add_edge(\"restaurant\", \"rating\")\n",
    "\n",
    "pgm.render()\n",
    "#plt.gca().set_xlabel('(e)')\n",
    "plt.tight_layout()\n",
    "pgm.figure.savefig(\"restaurant.png\")\n",
    "\n"
   ]
  },
  {
   "cell_type": "code",
   "execution_count": 44,
   "id": "compatible-employee",
   "metadata": {},
   "outputs": [],
   "source": [
    "import numpy as np\n",
    "import pandas as pd\n",
    "import random\n",
    "\n",
    "import itertools\n",
    "\n",
    "def make_simpson_df_and_science_table(\n",
    "    treatments, outcomes, confounds, counts, treatment_name, outcome_name, confound_name\n",
    "):\n",
    "    agg_rows = []\n",
    "    sample_rows = []\n",
    "    def other(t):\n",
    "        return list(set(treatments) - {t})[0]\n",
    "    for ((it, t), (io, o), (ic, c)) in itertools.product(\n",
    "        *(enumerate(l) for l in (treatments, outcomes, confounds))\n",
    "    ):\n",
    "        n = counts[it, io, ic]\n",
    "        row = {\n",
    "            treatment_name: t,\n",
    "            outcome_name: o,\n",
    "            confound_name: c,\n",
    "            'count': n\n",
    "        }\n",
    "        agg_rows.append(row)\n",
    "        \n",
    "        sample_row = {\n",
    "            #f\"{outcome_name} for {treatment_name}={t}\": io,\n",
    "            #f\"{outcome_name} for {treatment_name}={other(t)}\": np.nan,\n",
    "            f\"{outcome_name} for {t}\": io,\n",
    "            f\"{outcome_name} for {other(t)}\": np.nan,\n",
    "            confound_name: c\n",
    "        }\n",
    "        sample_rows.extend([sample_row] * n)\n",
    "    random.shuffle(sample_rows)\n",
    "    return (pd.DataFrame(agg_rows), pd.DataFrame(sample_rows))\n",
    "\n",
    "        "
   ]
  },
  {
   "cell_type": "code",
   "execution_count": 45,
   "id": "respiratory-vehicle",
   "metadata": {},
   "outputs": [],
   "source": [
    "food, food_sci = make_simpson_df_and_science_table(\n",
    "    [\"A\", \"B\"],\n",
    "    [\"👎\", \"👍\"],\n",
    "    [\"2019\", \"2020\"],\n",
    "    np.array([\n",
    "        [[0, 80], [20, 100]],\n",
    "        [[10, 10], [70, 10]],\n",
    "    ]),\n",
    "    \"Restaurant\", \"Dish rating\", \"Year\",\n",
    ")\n",
    "food.to_csv('restaurants.csv', index=False)\n",
    "food_sci.to_csv('restaurants_counterfactuals.csv', index=False)"
   ]
  },
  {
   "cell_type": "code",
   "execution_count": null,
   "id": "partial-degree",
   "metadata": {},
   "outputs": [],
   "source": [
    "# Suppose we are trying to measure whether a certain pesticide is effective at killing insects that eat crops. We conduct a randomized controlled trial, and obtain the following data:\n",
    "\n",
    "crops = make_simpson_df(\n",
    "    [\"Pesticide\", \"Control\"],\n",
    "    [\"No insects\", \"insects\"],\n",
    "    [\"Dead\", \"Alive\"],\n",
    "    np.array([\n",
    "        [[0, 80], [20, 100]],\n",
    "        [[10, 10], [70, 10]],\n",
    "    ]),\n",
    "    \"Crop treatment\", \"\", \"Year\",\n",
    ")\n",
    "food.to_csv('restaurants.csv', index=False)\n"
   ]
  }
 ],
 "metadata": {
  "kernelspec": {
   "display_name": "Python 3",
   "language": "python",
   "name": "python3"
  },
  "language_info": {
   "codemirror_mode": {
    "name": "ipython",
    "version": 3
   },
   "file_extension": ".py",
   "mimetype": "text/x-python",
   "name": "python",
   "nbconvert_exporter": "python",
   "pygments_lexer": "ipython3",
   "version": "3.9.1"
  }
 },
 "nbformat": 4,
 "nbformat_minor": 5
}
